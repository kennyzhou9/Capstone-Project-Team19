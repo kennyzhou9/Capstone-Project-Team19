{
 "metadata": {
  "language_info": {
   "codemirror_mode": {
    "name": "ipython",
    "version": 3
   },
   "file_extension": ".py",
   "mimetype": "text/x-python",
   "name": "python",
   "nbconvert_exporter": "python",
   "pygments_lexer": "ipython3",
   "version": "3.8.5-final"
  },
  "orig_nbformat": 2,
  "kernelspec": {
   "name": "python3",
   "display_name": "Python 3.8.5 64-bit ('QST_BA': conda)",
   "metadata": {
    "interpreter": {
     "hash": "4c0bfb3f782de325ad29fca3e7f49701831d88115e99ca6c22d78d2885f399ff"
    }
   }
  }
 },
 "nbformat": 4,
 "nbformat_minor": 2,
 "cells": [
  {
   "source": [
    "## Packages"
   ],
   "cell_type": "markdown",
   "metadata": {}
  },
  {
   "cell_type": "code",
   "execution_count": 1,
   "metadata": {},
   "outputs": [],
   "source": [
    "import selenium\n",
    "from selenium import webdriver\n",
    "from time import sleep\n",
    "from selenium.webdriver.common.keys import Keys\n",
    "from selenium.webdriver.common.by import By\n",
    "from selenium.webdriver.support.ui import WebDriverWait\n",
    "from selenium.webdriver.support import expected_conditions as EC\n",
    "\n",
    "import numpy as np\n",
    "import pandas as pd"
   ]
  },
  {
   "source": [
    "## Creating Location DataFrame"
   ],
   "cell_type": "markdown",
   "metadata": {}
  },
  {
   "cell_type": "code",
   "execution_count": 3,
   "metadata": {},
   "outputs": [
    {
     "output_type": "execute_result",
     "data": {
      "text/plain": [
       "           Company                           Address           City State  \\\n",
       "0  BJ's Wholesale               278 Middlesex Avenue        Medford    MA   \n",
       "1  BJ's Wholesale   Northway Mall  1440 Central Ave.         Albany    NY   \n",
       "2  BJ's Wholesale          300 Route 17 (Northbound)  E. Rutherford    NJ   \n",
       "3  BJ's Wholesale               6924 Frank Avenue Nw      N. Canton    OH   \n",
       "4  BJ's Wholesale             4000 Nesconset Highway    E. Setauket    NY   \n",
       "\n",
       "  Zip Code  Longitude  Latitude  \\\n",
       "0     2155  -71.08280  42.41337   \n",
       "1    12205  -73.83073  42.70423   \n",
       "2     7073  -74.09679  40.82400   \n",
       "3    44720  -81.43979  40.88180   \n",
       "4    11733  -73.07656  40.90417   \n",
       "\n",
       "                                        Full Address  \\\n",
       "0  BJ's Wholesale  278 Middlesex Avenue Medford M...   \n",
       "1  BJ's Wholesale  Northway Mall  1440 Central Av...   \n",
       "2  BJ's Wholesale  300 Route 17 (Northbound) E. R...   \n",
       "3  BJ's Wholesale  6924 Frank Avenue Nw N. Canton...   \n",
       "4  BJ's Wholesale  4000 Nesconset Highway E. Seta...   \n",
       "\n",
       "                                                 URL  \n",
       "0  https://www.google.com/maps/place/BJ's+Wholesa...  \n",
       "1  https://www.google.com/maps/place/BJ's+Wholesa...  \n",
       "2  https://www.google.com/maps/place/BJ's+Wholesa...  \n",
       "3  https://www.google.com/maps/place/BJ's+Wholesa...  \n",
       "4  https://www.google.com/maps/place/BJ's+Wholesa...  "
      ],
      "text/html": "<div>\n<style scoped>\n    .dataframe tbody tr th:only-of-type {\n        vertical-align: middle;\n    }\n\n    .dataframe tbody tr th {\n        vertical-align: top;\n    }\n\n    .dataframe thead th {\n        text-align: right;\n    }\n</style>\n<table border=\"1\" class=\"dataframe\">\n  <thead>\n    <tr style=\"text-align: right;\">\n      <th></th>\n      <th>Company</th>\n      <th>Address</th>\n      <th>City</th>\n      <th>State</th>\n      <th>Zip Code</th>\n      <th>Longitude</th>\n      <th>Latitude</th>\n      <th>Full Address</th>\n      <th>URL</th>\n    </tr>\n  </thead>\n  <tbody>\n    <tr>\n      <th>0</th>\n      <td>BJ's Wholesale</td>\n      <td>278 Middlesex Avenue</td>\n      <td>Medford</td>\n      <td>MA</td>\n      <td>2155</td>\n      <td>-71.08280</td>\n      <td>42.41337</td>\n      <td>BJ's Wholesale  278 Middlesex Avenue Medford M...</td>\n      <td>https://www.google.com/maps/place/BJ's+Wholesa...</td>\n    </tr>\n    <tr>\n      <th>1</th>\n      <td>BJ's Wholesale</td>\n      <td>Northway Mall  1440 Central Ave.</td>\n      <td>Albany</td>\n      <td>NY</td>\n      <td>12205</td>\n      <td>-73.83073</td>\n      <td>42.70423</td>\n      <td>BJ's Wholesale  Northway Mall  1440 Central Av...</td>\n      <td>https://www.google.com/maps/place/BJ's+Wholesa...</td>\n    </tr>\n    <tr>\n      <th>2</th>\n      <td>BJ's Wholesale</td>\n      <td>300 Route 17 (Northbound)</td>\n      <td>E. Rutherford</td>\n      <td>NJ</td>\n      <td>7073</td>\n      <td>-74.09679</td>\n      <td>40.82400</td>\n      <td>BJ's Wholesale  300 Route 17 (Northbound) E. R...</td>\n      <td>https://www.google.com/maps/place/BJ's+Wholesa...</td>\n    </tr>\n    <tr>\n      <th>3</th>\n      <td>BJ's Wholesale</td>\n      <td>6924 Frank Avenue Nw</td>\n      <td>N. Canton</td>\n      <td>OH</td>\n      <td>44720</td>\n      <td>-81.43979</td>\n      <td>40.88180</td>\n      <td>BJ's Wholesale  6924 Frank Avenue Nw N. Canton...</td>\n      <td>https://www.google.com/maps/place/BJ's+Wholesa...</td>\n    </tr>\n    <tr>\n      <th>4</th>\n      <td>BJ's Wholesale</td>\n      <td>4000 Nesconset Highway</td>\n      <td>E. Setauket</td>\n      <td>NY</td>\n      <td>11733</td>\n      <td>-73.07656</td>\n      <td>40.90417</td>\n      <td>BJ's Wholesale  4000 Nesconset Highway E. Seta...</td>\n      <td>https://www.google.com/maps/place/BJ's+Wholesa...</td>\n    </tr>\n  </tbody>\n</table>\n</div>"
     },
     "metadata": {},
     "execution_count": 3
    }
   ],
   "source": [
    "location = pd.read_csv(\"location_url.csv\")\n",
    "location = pd.DataFrame(location)\n",
    "location.head()"
   ]
  },
  {
   "cell_type": "code",
   "execution_count": 5,
   "metadata": {},
   "outputs": [
    {
     "output_type": "execute_result",
     "data": {
      "text/plain": [
       "\"https://www.google.com/maps/place/BJ's+Wholesale+Club/@42.7046189,-73.8324031,17z/data=!3m2!4b1!5s0x89de0b5012f24253:0x80f6a1525d32b9e2!4m5!3m4!1s0x89de0b5c1bb3bcb7:0x2839f8a28b69ed83!8m2!3d42.7046189!4d-73.8302144\""
      ]
     },
     "metadata": {},
     "execution_count": 5
    }
   ],
   "source": [
    "location.URL[1]"
   ]
  },
  {
   "source": [
    "## Intiating Driver"
   ],
   "cell_type": "markdown",
   "metadata": {}
  },
  {
   "cell_type": "code",
   "execution_count": 75,
   "metadata": {},
   "outputs": [],
   "source": [
    "PATH = \"C:\\Program Files (x86)\\chromedriver.exe\"\n",
    "driver = webdriver.Chrome(PATH)\n",
    "# driver.get(\"https://www.google.com/map\")\n",
    "driver.get(location.URL[1])\n",
    "driver.maximize_window()\n",
    "sleep(4)"
   ]
  },
  {
   "source": [
    "## Scrolling"
   ],
   "cell_type": "markdown",
   "metadata": {}
  },
  {
   "cell_type": "code",
   "execution_count": 46,
   "metadata": {},
   "outputs": [],
   "source": [
    "scroll = driver.find_element_by_xpath(\"/html/body/jsl/div[3]/div[9]/div[8]/div/div[1]\")\n",
    "\n",
    "\n",
    "# scroll.send_keys(Keys.HOME) \n",
    "# scroll.send_keys(Keys.END)\n",
    "# scroll.send_keys(Keys.UP) \n",
    "# scroll.send_keys(Keys.DOWN)\n",
    "# scroll.send_keys(Keys.PAGE_UP)\n",
    "# scroll.send_keys(Keys.PAGE_DOWN)"
   ]
  },
  {
   "source": [
    "## More Reviews Buttom"
   ],
   "cell_type": "markdown",
   "metadata": {}
  },
  {
   "cell_type": "code",
   "execution_count": 76,
   "metadata": {},
   "outputs": [],
   "source": [
    "# Scoll in Pane\n",
    "scroll = driver.find_element_by_xpath(\"/html/body/jsl/div[3]/div[9]/div[8]/div/div[1]\")"
   ]
  },
  {
   "cell_type": "code",
   "execution_count": 77,
   "metadata": {},
   "outputs": [],
   "source": [
    "# More Reviews Button\n",
    "more_reviews_button = driver.find_element_by_xpath(\"/html/body/jsl/div[3]/div[9]/div[8]/div/div[1]/div/div/div[51]/div/div/button\")"
   ]
  },
  {
   "cell_type": "code",
   "execution_count": 78,
   "metadata": {},
   "outputs": [],
   "source": [
    "# finds more reviews button\n",
    "while more_reviews_button.is_displayed() == False:\n",
    "    scroll.send_keys(Keys.PAGE_DOWN)\n",
    "\n",
    "# clicks more reviews button\n",
    "more_reviews_button.click()  "
   ]
  },
  {
   "cell_type": "code",
   "execution_count": 85,
   "metadata": {},
   "outputs": [
    {
     "output_type": "error",
     "ename": "NoSuchWindowException",
     "evalue": "Message: no such window: window was already closed\n  (Session info: chrome=89.0.4389.82)\n",
     "traceback": [
      "\u001b[1;31m---------------------------------------------------------------------------\u001b[0m",
      "\u001b[1;31mNoSuchWindowException\u001b[0m                     Traceback (most recent call last)",
      "\u001b[1;32m<ipython-input-85-804dae9c509a>\u001b[0m in \u001b[0;36m<module>\u001b[1;34m\u001b[0m\n\u001b[1;32m----> 1\u001b[1;33m \u001b[0mdriver\u001b[0m\u001b[1;33m.\u001b[0m\u001b[0mexecute_script\u001b[0m\u001b[1;33m(\u001b[0m\u001b[1;34m\"window.scrollTo(0, document.body.scrollHeight);\"\u001b[0m\u001b[1;33m)\u001b[0m\u001b[1;33m\u001b[0m\u001b[1;33m\u001b[0m\u001b[0m\n\u001b[0m",
      "\u001b[1;32m~\\Anaconda3\\envs\\QST_BA\\lib\\site-packages\\selenium\\webdriver\\remote\\webdriver.py\u001b[0m in \u001b[0;36mexecute_script\u001b[1;34m(self, script, *args)\u001b[0m\n\u001b[0;32m    632\u001b[0m             \u001b[0mcommand\u001b[0m \u001b[1;33m=\u001b[0m \u001b[0mCommand\u001b[0m\u001b[1;33m.\u001b[0m\u001b[0mEXECUTE_SCRIPT\u001b[0m\u001b[1;33m\u001b[0m\u001b[1;33m\u001b[0m\u001b[0m\n\u001b[0;32m    633\u001b[0m \u001b[1;33m\u001b[0m\u001b[0m\n\u001b[1;32m--> 634\u001b[1;33m         return self.execute(command, {\n\u001b[0m\u001b[0;32m    635\u001b[0m             \u001b[1;34m'script'\u001b[0m\u001b[1;33m:\u001b[0m \u001b[0mscript\u001b[0m\u001b[1;33m,\u001b[0m\u001b[1;33m\u001b[0m\u001b[1;33m\u001b[0m\u001b[0m\n\u001b[0;32m    636\u001b[0m             'args': converted_args})['value']\n",
      "\u001b[1;32m~\\Anaconda3\\envs\\QST_BA\\lib\\site-packages\\selenium\\webdriver\\remote\\webdriver.py\u001b[0m in \u001b[0;36mexecute\u001b[1;34m(self, driver_command, params)\u001b[0m\n\u001b[0;32m    319\u001b[0m         \u001b[0mresponse\u001b[0m \u001b[1;33m=\u001b[0m \u001b[0mself\u001b[0m\u001b[1;33m.\u001b[0m\u001b[0mcommand_executor\u001b[0m\u001b[1;33m.\u001b[0m\u001b[0mexecute\u001b[0m\u001b[1;33m(\u001b[0m\u001b[0mdriver_command\u001b[0m\u001b[1;33m,\u001b[0m \u001b[0mparams\u001b[0m\u001b[1;33m)\u001b[0m\u001b[1;33m\u001b[0m\u001b[1;33m\u001b[0m\u001b[0m\n\u001b[0;32m    320\u001b[0m         \u001b[1;32mif\u001b[0m \u001b[0mresponse\u001b[0m\u001b[1;33m:\u001b[0m\u001b[1;33m\u001b[0m\u001b[1;33m\u001b[0m\u001b[0m\n\u001b[1;32m--> 321\u001b[1;33m             \u001b[0mself\u001b[0m\u001b[1;33m.\u001b[0m\u001b[0merror_handler\u001b[0m\u001b[1;33m.\u001b[0m\u001b[0mcheck_response\u001b[0m\u001b[1;33m(\u001b[0m\u001b[0mresponse\u001b[0m\u001b[1;33m)\u001b[0m\u001b[1;33m\u001b[0m\u001b[1;33m\u001b[0m\u001b[0m\n\u001b[0m\u001b[0;32m    322\u001b[0m             response['value'] = self._unwrap_value(\n\u001b[0;32m    323\u001b[0m                 response.get('value', None))\n",
      "\u001b[1;32m~\\Anaconda3\\envs\\QST_BA\\lib\\site-packages\\selenium\\webdriver\\remote\\errorhandler.py\u001b[0m in \u001b[0;36mcheck_response\u001b[1;34m(self, response)\u001b[0m\n\u001b[0;32m    240\u001b[0m                 \u001b[0malert_text\u001b[0m \u001b[1;33m=\u001b[0m \u001b[0mvalue\u001b[0m\u001b[1;33m[\u001b[0m\u001b[1;34m'alert'\u001b[0m\u001b[1;33m]\u001b[0m\u001b[1;33m.\u001b[0m\u001b[0mget\u001b[0m\u001b[1;33m(\u001b[0m\u001b[1;34m'text'\u001b[0m\u001b[1;33m)\u001b[0m\u001b[1;33m\u001b[0m\u001b[1;33m\u001b[0m\u001b[0m\n\u001b[0;32m    241\u001b[0m             \u001b[1;32mraise\u001b[0m \u001b[0mexception_class\u001b[0m\u001b[1;33m(\u001b[0m\u001b[0mmessage\u001b[0m\u001b[1;33m,\u001b[0m \u001b[0mscreen\u001b[0m\u001b[1;33m,\u001b[0m \u001b[0mstacktrace\u001b[0m\u001b[1;33m,\u001b[0m \u001b[0malert_text\u001b[0m\u001b[1;33m)\u001b[0m\u001b[1;33m\u001b[0m\u001b[1;33m\u001b[0m\u001b[0m\n\u001b[1;32m--> 242\u001b[1;33m         \u001b[1;32mraise\u001b[0m \u001b[0mexception_class\u001b[0m\u001b[1;33m(\u001b[0m\u001b[0mmessage\u001b[0m\u001b[1;33m,\u001b[0m \u001b[0mscreen\u001b[0m\u001b[1;33m,\u001b[0m \u001b[0mstacktrace\u001b[0m\u001b[1;33m)\u001b[0m\u001b[1;33m\u001b[0m\u001b[1;33m\u001b[0m\u001b[0m\n\u001b[0m\u001b[0;32m    243\u001b[0m \u001b[1;33m\u001b[0m\u001b[0m\n\u001b[0;32m    244\u001b[0m     \u001b[1;32mdef\u001b[0m \u001b[0m_value_or_default\u001b[0m\u001b[1;33m(\u001b[0m\u001b[0mself\u001b[0m\u001b[1;33m,\u001b[0m \u001b[0mobj\u001b[0m\u001b[1;33m,\u001b[0m \u001b[0mkey\u001b[0m\u001b[1;33m,\u001b[0m \u001b[0mdefault\u001b[0m\u001b[1;33m)\u001b[0m\u001b[1;33m:\u001b[0m\u001b[1;33m\u001b[0m\u001b[1;33m\u001b[0m\u001b[0m\n",
      "\u001b[1;31mNoSuchWindowException\u001b[0m: Message: no such window: window was already closed\n  (Session info: chrome=89.0.4389.82)\n"
     ]
    }
   ],
   "source": []
  },
  {
   "source": [
    "## Review Scraper"
   ],
   "cell_type": "markdown",
   "metadata": {}
  },
  {
   "cell_type": "code",
   "execution_count": 44,
   "metadata": {},
   "outputs": [
    {
     "output_type": "stream",
     "name": "stdout",
     "text": [
      "XxbluewølfX x\n",
      "Sandra Medina\n",
      "Donnie L.S\n",
      "Sabina Lamichhane\n",
      "Amy Rose\n",
      "Mohammed Khair Ul Ahsan\n",
      "Mileyrie Santell\n",
      "Amaris Brown\n",
      "Hananel H\n",
      "Lauren King\n"
     ]
    }
   ],
   "source": [
    "# title = driver.find_element_by_class_name(\"section-review-title\")\n",
    "t# itle.text\n",
    "t\n",
    "itle = driver.find_elements_by_class_name(\"section-review-title\")\n",
    "cfor i in title:\n",
    "    print()i.text"
   ]
  },
  {
   "cell_type": "code",
   "execution_count": 46,
   "metadata": {},
   "outputs": [
    {
     "output_type": "stream",
     "name": "stdout",
     "text": [
      "Eric has great customer service. He told me to use the receipt and left instructions on it. But I lost it. It was a good shopping run and he made the experience even better. Way to go Eric!!!\n",
      "NO TEXT\n",
      "Do something!!!\n",
      "make a self checkout line other BJ can manage well hope this place can too. Avoid weekend.\n",
      "I place a online pick up order to save some time. Everytime I pick up the order, they can't complete the order and mark the item as missing. When I look in the aisle, behold it's there. Today I had the worst experience. I was missing half …\n",
      "This location has been my reliable go-to for many years, however, based on my last two trips, I'm not sure I can continue shopping here.\n",
      "\n",
      "We all expect to spend time standing in line, especially with the COVID protocols in place. …\n",
      "NO TEXT\n",
      "NO TEXT\n",
      "Rude teenage cashiers on their phones who don’t help you. Manager who couldn’t care less. Bought a product they said was in stock, turns out it wasn’t and now I’m waiting 10 business days for a refund of a product that was almost a grand. Unprofessional, rude and lazy.\n",
      "NO TEXT\n",
      "Curbside pickup is a joke. They had me waiting for something that could have took me 5 minutes.  Only did curbside because I didn't want to bring 4 kids in the store with me. Also tried to call the store after waiting 25 minutes after I …\n"
     ]
    }
   ],
   "source": [
    "# text = driver.find_element_by_class_name(\"section-review-text\")\n",
    "# text.text\n",
    "\n",
    "text = driver.find_elements_by_class_name(\"section-review-text\")\n",
    "for i in text:\n",
    "    if i.text != \"\":\n",
    "        print(i.text)\n",
    "    else:\n",
    "        print(\"NO TEXT\")"
   ]
  },
  {
   "cell_type": "code",
   "execution_count": 48,
   "metadata": {},
   "outputs": [
    {
     "output_type": "stream",
     "name": "stdout",
     "text": [
      "1 review\n",
      "2 reviews\n",
      "Local Guide ・53 reviews\n",
      "2 reviews\n",
      "6 reviews\n",
      "Local Guide ・1 review\n",
      "2 reviews\n",
      "Local Guide ・17 reviews\n",
      "2 reviews\n"
     ]
    }
   ],
   "source": [
    "# review_count = driver.find_element_by_class_name(\"section-review-subtitle\")\n",
    "# review_count.text\n",
    "\n",
    "review_count = driver.find_elements_by_class_name(\"section-review-subtitle\")\n",
    "for i in review_count:\n",
    "    if i.text != \"\":\n",
    "        print(i.text)\n",
    "    else:\n",
    "        print(\"NO Reviews\")"
   ]
  },
  {
   "cell_type": "code",
   "execution_count": 37,
   "metadata": {},
   "outputs": [
    {
     "output_type": "execute_result",
     "data": {
      "text/plain": [
       "' 5 stars '"
      ]
     },
     "metadata": {},
     "execution_count": 37
    }
   ],
   "source": [
    "stars = driver.find_element_by_class_name(\"section-review-stars\")\n",
    "stars.get_attribute(\"aria-label\")"
   ]
  },
  {
   "cell_type": "code",
   "execution_count": 18,
   "metadata": {},
   "outputs": [
    {
     "output_type": "execute_result",
     "data": {
      "text/plain": [
       "'a week ago'"
      ]
     },
     "metadata": {},
     "execution_count": 18
    }
   ],
   "source": [
    "date = driver.find_element_by_class_name(\"section-review-publish-date\")\n",
    "date.text\n"
   ]
  },
  {
   "cell_type": "code",
   "execution_count": null,
   "metadata": {},
   "outputs": [],
   "source": [
    "x=driver.find_elements_by_class_name('section-result-title')\n",
    "print(x)"
   ]
  }
 ]
}