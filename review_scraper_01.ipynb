{
 "metadata": {
  "language_info": {
   "codemirror_mode": {
    "name": "ipython",
    "version": 3
   },
   "file_extension": ".py",
   "mimetype": "text/x-python",
   "name": "python",
   "nbconvert_exporter": "python",
   "pygments_lexer": "ipython3",
   "version": "3.8.5-final"
  },
  "orig_nbformat": 2,
  "kernelspec": {
   "name": "python3",
   "display_name": "Python 3.8.5 64-bit ('QST_BA': conda)",
   "metadata": {
    "interpreter": {
     "hash": "4c0bfb3f782de325ad29fca3e7f49701831d88115e99ca6c22d78d2885f399ff"
    }
   }
  }
 },
 "nbformat": 4,
 "nbformat_minor": 2,
 "cells": [
  {
   "source": [
    "## Packages"
   ],
   "cell_type": "markdown",
   "metadata": {}
  },
  {
   "cell_type": "code",
   "execution_count": 31,
   "metadata": {},
   "outputs": [],
   "source": [
    "import selenium\n",
    "from selenium import webdriver\n",
    "from time import sleep\n",
    "from selenium.webdriver.common.keys import Keys\n",
    "from selenium.webdriver.common.by import By\n",
    "from selenium.webdriver.support.ui import WebDriverWait\n",
    "from selenium.webdriver.support import expected_conditions as EC\n",
    "\n",
    "import re\n",
    "\n",
    "import numpy as np\n",
    "import pandas as pd"
   ]
  },
  {
   "source": [
    "## Creating Location DataFrame"
   ],
   "cell_type": "markdown",
   "metadata": {}
  },
  {
   "cell_type": "code",
   "execution_count": 326,
   "metadata": {},
   "outputs": [],
   "source": [
    "location = pd.read_csv(\"location_url.csv\")\n",
    "location = pd.DataFrame(location)"
   ]
  },
  {
   "source": [
    "## Intiating Driver"
   ],
   "cell_type": "markdown",
   "metadata": {}
  },
  {
   "cell_type": "code",
   "execution_count": 4,
   "metadata": {},
   "outputs": [],
   "source": [
    "PATH = \"C:\\Program Files (x86)\\chromedriver.exe\"\n",
    "driver = webdriver.Chrome(PATH)\n",
    "# driver.get(\"https://www.google.com/map\")\n",
    "driver.get(location.URL[1])\n",
    "driver.maximize_window()\n",
    "sleep(4)"
   ]
  },
  {
   "source": [
    "## Scrolling"
   ],
   "cell_type": "markdown",
   "metadata": {}
  },
  {
   "cell_type": "code",
   "execution_count": 5,
   "metadata": {},
   "outputs": [],
   "source": [
    "# scroll = driver.find_element_by_xpath(\"/html/body/jsl/div[3]/div[9]/div[8]/div/div[1]\")\n",
    "# scroll.send_keys(Keys.HOME) \n",
    "# scroll.send_keys(Keys.END)\n",
    "# scroll.send_keys(Keys.UP) \n",
    "# scroll.send_keys(Keys.DOWN)\n",
    "# scroll.send_keys(Keys.PAGE_UP)\n",
    "# scroll.send_keys(Keys.PAGE_DOWN)"
   ]
  },
  {
   "source": [
    "## More Reviews Buttom"
   ],
   "cell_type": "markdown",
   "metadata": {}
  },
  {
   "cell_type": "code",
   "execution_count": 7,
   "metadata": {},
   "outputs": [],
   "source": [
    "# Scoll in Pane\n",
    "scroll = driver.find_element_by_xpath(\"/html/body/jsl/div[3]/div[9]/div[8]/div/div[1]\")"
   ]
  },
  {
   "cell_type": "code",
   "execution_count": 8,
   "metadata": {},
   "outputs": [],
   "source": [
    "# More Reviews Button\n",
    "more_reviews_button = driver.find_element_by_xpath(\"/html/body/jsl/div[3]/div[9]/div[8]/div/div[1]/div/div/div[51]/div/div/button\")"
   ]
  },
  {
   "cell_type": "code",
   "execution_count": 9,
   "metadata": {},
   "outputs": [],
   "source": [
    "# finds more reviews button\n",
    "while more_reviews_button.is_displayed() == False:\n",
    "    scroll.send_keys(Keys.PAGE_DOWN)\n",
    "\n",
    "# clicks more reviews button\n",
    "more_reviews_button.click()  "
   ]
  },
  {
   "cell_type": "code",
   "execution_count": 263,
   "metadata": {},
   "outputs": [],
   "source": [
    "more_text_button = driver.find_elements_by_xpath(\"/html/body/jsl/div[3]/div[9]/div[8]/div/div[1]/div/div/div[3]/div[9]/div[*]/div/div[3]/div[3]/jsl/button\")\n",
    "\n",
    "for button in more_text_button:\n",
    "    button.click()  "
   ]
  },
  {
   "source": [
    "# Data Frame Reviews"
   ],
   "cell_type": "markdown",
   "metadata": {}
  },
  {
   "cell_type": "code",
   "execution_count": 285,
   "metadata": {},
   "outputs": [],
   "source": [
    "reviews = pd.DataFrame()"
   ]
  },
  {
   "source": [
    "## Review Scraper"
   ],
   "cell_type": "markdown",
   "metadata": {}
  },
  {
   "cell_type": "code",
   "execution_count": 287,
   "metadata": {},
   "outputs": [],
   "source": [
    "# title = driver.find_element_by_class_name(\"section-review-title\")\n",
    "# title.text\n",
    "temp = []\n",
    "names = driver.find_elements_by_class_name(\"section-review-title\")\n",
    "for name in names:\n",
    "    temp.append(name.text)\n",
    "\n",
    "reviews[\"name\"] = temp"
   ]
  },
  {
   "cell_type": "code",
   "execution_count": 288,
   "metadata": {},
   "outputs": [],
   "source": [
    "# text = driver.find_element_by_class_name(\"section-review-text\")\n",
    "# text.text\n",
    "\n",
    "temp = []\n",
    "\n",
    "texts = driver.find_elements_by_class_name(\"section-review-text\")\n",
    "for text in texts:\n",
    "    temp.append(text.text)\n",
    "\n",
    "reviews[\"text\"] = temp\n",
    "    "
   ]
  },
  {
   "cell_type": "code",
   "execution_count": 289,
   "metadata": {},
   "outputs": [],
   "source": [
    "reviews[\"date_scraped\"] = \"03/26/2021\"\n",
    "\n",
    "temp = []\n",
    "\n",
    "dates = driver.find_elements_by_class_name(\"section-review-publish-date\")\n",
    "for date in dates:\n",
    "    temp.append(date.text)\n",
    "\n",
    "reviews[\"date_published\"] = temp"
   ]
  },
  {
   "cell_type": "code",
   "execution_count": 290,
   "metadata": {},
   "outputs": [],
   "source": [
    "\n",
    "temp = []\n",
    "\n",
    "ratings = driver.find_elements_by_class_name(\"section-review-stars\")\n",
    "for rating in ratings:\n",
    "    temp.append(int(rating.get_attribute(\"aria-label\")[1]))\n",
    "\n",
    "reviews[\"rating\"] = temp"
   ]
  },
  {
   "cell_type": "code",
   "execution_count": 291,
   "metadata": {},
   "outputs": [
    {
     "output_type": "stream",
     "name": "stderr",
     "text": [
      "<ipython-input-291-2cc15be73208>:9: SettingWithCopyWarning: \nA value is trying to be set on a copy of a slice from a DataFrame\n\nSee the caveats in the documentation: https://pandas.pydata.org/pandas-docs/stable/user_guide/indexing.html#returning-a-view-versus-a-copy\n  reviews.likes[i] = x\n"
     ]
    }
   ],
   "source": [
    "temp = []\n",
    "reviews[\"likes\"] = 0\n",
    "likes = driver.find_elements_by_class_name(\"section-review-interaction-button\")\n",
    "for like in likes:\n",
    "    temp.append(like.text)\n",
    "temp = temp[::2]\n",
    "temp = [0 if i == \"Like\" else int(i) for i in temp]\n",
    "for i, x in enumerate(temp):\n",
    "    reviews.likes[i] = x\n"
   ]
  },
  {
   "cell_type": "code",
   "execution_count": 298,
   "metadata": {},
   "outputs": [],
   "source": [
    "temp =[]\n",
    "\n",
    "contents = driver.find_elements_by_class_name(\"section-review-content\")\n",
    "for content in contents:\n",
    "    temp.append(content.text)\n",
    "temp1 = pd.DataFrame(temp, columns=[\"full\"])\n",
    "\n",
    "\n",
    "temp1[\"split\"] = temp1[\"full\"].str.split(\"\\n\")\n",
    "temp1[\"subtitle\"] = [i[1] if len(i) >=3 else \"\" for i in temp1.split]\n",
    "temp1[\"local_guide\"] = [1 if \"Local\" in i else 0 for i in temp1.subtitle]\n",
    "temp1[\"review_count\"] = [int(re.findall(r'\\d+',i)[0]) if len(re.findall(r'\\d+',i))>0 else 0 for i in temp1.subtitle]\n",
    "\n",
    "review_old = reviews.copy()\n",
    "\n",
    "reviews = reviews.merge(temp1[[\"local_guide\",\"review_count\"]], left_index=True,right_index=True)\n"
   ]
  },
  {
   "cell_type": "code",
   "execution_count": 328,
   "metadata": {
    "tags": []
   },
   "outputs": [],
   "source": [
    "temp = []\n",
    "profiles = driver.find_elements_by_xpath(\"/html/body/jsl/div[3]/div[9]/div[8]/div/div[1]/div/div/div[3]/div[9]/div[*]/div/div[3]/div[2]/div/div/a\")\n",
    "for profile in profiles:\n",
    "    temp.append(profile.get_attribute(\"href\"))\n",
    "\n",
    "reviews[\"profile_url\"] = temp\n"
   ]
  },
  {
   "cell_type": "code",
   "execution_count": 355,
   "metadata": {},
   "outputs": [],
   "source": [
    "reviews[\"location\"] = location[\"Full Address\"][0]\n",
    "reviews[\"location_url\"] = location[\"URL\"][0]"
   ]
  },
  {
   "cell_type": "code",
   "execution_count": 356,
   "metadata": {},
   "outputs": [
    {
     "output_type": "execute_result",
     "data": {
      "text/plain": [
       "                  name                                               text  \\\n",
       "0              Job Req  Very badly managed club... Had a very bad rece...   \n",
       "1        Barbara Perez  I always find something unexpected and unique ...   \n",
       "2    Jenny Jay Rapirap  Did not accept a return (unopened set of tooth...   \n",
       "3                  V P  Woman not wearing mask, reported it to manager...   \n",
       "4           Butch Hyde                                         Great Sale   \n",
       "..                 ...                                                ...   \n",
       "196  William H. Creitz                                                      \n",
       "197        Sonia Ortiz                                                      \n",
       "198      William Gokey                                                      \n",
       "199    Marlon Williams                                                      \n",
       "200     Vishal Makwana                                                      \n",
       "\n",
       "    date_scraped date_published  rating  likes  local_guide  review_count  \\\n",
       "0     03/26/2021    3 weeks ago       1      0            0            11   \n",
       "1     03/26/2021   4 months ago       4      0            1            93   \n",
       "2     03/26/2021   3 months ago       1      0            1           172   \n",
       "3     03/26/2021    a month ago       1      0            0             5   \n",
       "4     03/26/2021    3 years ago       1      0            0             9   \n",
       "..           ...            ...     ...    ...          ...           ...   \n",
       "196   03/26/2021    3 years ago       5      0            1            78   \n",
       "197   03/26/2021    3 years ago       5      0            1             1   \n",
       "198   03/26/2021    3 years ago       5      0            0             6   \n",
       "199   03/26/2021    3 years ago       5      0            0             0   \n",
       "200   03/26/2021    4 years ago       4      0            1            10   \n",
       "\n",
       "                                           profile_url  \\\n",
       "0    https://www.google.com/maps/contrib/1055815481...   \n",
       "1    https://www.google.com/maps/contrib/1003703133...   \n",
       "2    https://www.google.com/maps/contrib/1136537256...   \n",
       "3    https://www.google.com/maps/contrib/1056014347...   \n",
       "4    https://www.google.com/maps/contrib/1061470280...   \n",
       "..                                                 ...   \n",
       "196  https://www.google.com/maps/contrib/1157347278...   \n",
       "197  https://www.google.com/maps/contrib/1123192890...   \n",
       "198  https://www.google.com/maps/contrib/1089534147...   \n",
       "199  https://www.google.com/maps/contrib/1116221582...   \n",
       "200  https://www.google.com/maps/contrib/1181828560...   \n",
       "\n",
       "                                              location  \\\n",
       "0    BJ's Wholesale  278 Middlesex Avenue Medford M...   \n",
       "1    BJ's Wholesale  278 Middlesex Avenue Medford M...   \n",
       "2    BJ's Wholesale  278 Middlesex Avenue Medford M...   \n",
       "3    BJ's Wholesale  278 Middlesex Avenue Medford M...   \n",
       "4    BJ's Wholesale  278 Middlesex Avenue Medford M...   \n",
       "..                                                 ...   \n",
       "196  BJ's Wholesale  278 Middlesex Avenue Medford M...   \n",
       "197  BJ's Wholesale  278 Middlesex Avenue Medford M...   \n",
       "198  BJ's Wholesale  278 Middlesex Avenue Medford M...   \n",
       "199  BJ's Wholesale  278 Middlesex Avenue Medford M...   \n",
       "200  BJ's Wholesale  278 Middlesex Avenue Medford M...   \n",
       "\n",
       "                                          location_url  \n",
       "0    https://www.google.com/maps/place/BJ's+Wholesa...  \n",
       "1    https://www.google.com/maps/place/BJ's+Wholesa...  \n",
       "2    https://www.google.com/maps/place/BJ's+Wholesa...  \n",
       "3    https://www.google.com/maps/place/BJ's+Wholesa...  \n",
       "4    https://www.google.com/maps/place/BJ's+Wholesa...  \n",
       "..                                                 ...  \n",
       "196  https://www.google.com/maps/place/BJ's+Wholesa...  \n",
       "197  https://www.google.com/maps/place/BJ's+Wholesa...  \n",
       "198  https://www.google.com/maps/place/BJ's+Wholesa...  \n",
       "199  https://www.google.com/maps/place/BJ's+Wholesa...  \n",
       "200  https://www.google.com/maps/place/BJ's+Wholesa...  \n",
       "\n",
       "[201 rows x 11 columns]"
      ],
      "text/html": "<div>\n<style scoped>\n    .dataframe tbody tr th:only-of-type {\n        vertical-align: middle;\n    }\n\n    .dataframe tbody tr th {\n        vertical-align: top;\n    }\n\n    .dataframe thead th {\n        text-align: right;\n    }\n</style>\n<table border=\"1\" class=\"dataframe\">\n  <thead>\n    <tr style=\"text-align: right;\">\n      <th></th>\n      <th>name</th>\n      <th>text</th>\n      <th>date_scraped</th>\n      <th>date_published</th>\n      <th>rating</th>\n      <th>likes</th>\n      <th>local_guide</th>\n      <th>review_count</th>\n      <th>profile_url</th>\n      <th>location</th>\n      <th>location_url</th>\n    </tr>\n  </thead>\n  <tbody>\n    <tr>\n      <th>0</th>\n      <td>Job Req</td>\n      <td>Very badly managed club... Had a very bad rece...</td>\n      <td>03/26/2021</td>\n      <td>3 weeks ago</td>\n      <td>1</td>\n      <td>0</td>\n      <td>0</td>\n      <td>11</td>\n      <td>https://www.google.com/maps/contrib/1055815481...</td>\n      <td>BJ's Wholesale  278 Middlesex Avenue Medford M...</td>\n      <td>https://www.google.com/maps/place/BJ's+Wholesa...</td>\n    </tr>\n    <tr>\n      <th>1</th>\n      <td>Barbara Perez</td>\n      <td>I always find something unexpected and unique ...</td>\n      <td>03/26/2021</td>\n      <td>4 months ago</td>\n      <td>4</td>\n      <td>0</td>\n      <td>1</td>\n      <td>93</td>\n      <td>https://www.google.com/maps/contrib/1003703133...</td>\n      <td>BJ's Wholesale  278 Middlesex Avenue Medford M...</td>\n      <td>https://www.google.com/maps/place/BJ's+Wholesa...</td>\n    </tr>\n    <tr>\n      <th>2</th>\n      <td>Jenny Jay Rapirap</td>\n      <td>Did not accept a return (unopened set of tooth...</td>\n      <td>03/26/2021</td>\n      <td>3 months ago</td>\n      <td>1</td>\n      <td>0</td>\n      <td>1</td>\n      <td>172</td>\n      <td>https://www.google.com/maps/contrib/1136537256...</td>\n      <td>BJ's Wholesale  278 Middlesex Avenue Medford M...</td>\n      <td>https://www.google.com/maps/place/BJ's+Wholesa...</td>\n    </tr>\n    <tr>\n      <th>3</th>\n      <td>V P</td>\n      <td>Woman not wearing mask, reported it to manager...</td>\n      <td>03/26/2021</td>\n      <td>a month ago</td>\n      <td>1</td>\n      <td>0</td>\n      <td>0</td>\n      <td>5</td>\n      <td>https://www.google.com/maps/contrib/1056014347...</td>\n      <td>BJ's Wholesale  278 Middlesex Avenue Medford M...</td>\n      <td>https://www.google.com/maps/place/BJ's+Wholesa...</td>\n    </tr>\n    <tr>\n      <th>4</th>\n      <td>Butch Hyde</td>\n      <td>Great Sale</td>\n      <td>03/26/2021</td>\n      <td>3 years ago</td>\n      <td>1</td>\n      <td>0</td>\n      <td>0</td>\n      <td>9</td>\n      <td>https://www.google.com/maps/contrib/1061470280...</td>\n      <td>BJ's Wholesale  278 Middlesex Avenue Medford M...</td>\n      <td>https://www.google.com/maps/place/BJ's+Wholesa...</td>\n    </tr>\n    <tr>\n      <th>...</th>\n      <td>...</td>\n      <td>...</td>\n      <td>...</td>\n      <td>...</td>\n      <td>...</td>\n      <td>...</td>\n      <td>...</td>\n      <td>...</td>\n      <td>...</td>\n      <td>...</td>\n      <td>...</td>\n    </tr>\n    <tr>\n      <th>196</th>\n      <td>William H. Creitz</td>\n      <td></td>\n      <td>03/26/2021</td>\n      <td>3 years ago</td>\n      <td>5</td>\n      <td>0</td>\n      <td>1</td>\n      <td>78</td>\n      <td>https://www.google.com/maps/contrib/1157347278...</td>\n      <td>BJ's Wholesale  278 Middlesex Avenue Medford M...</td>\n      <td>https://www.google.com/maps/place/BJ's+Wholesa...</td>\n    </tr>\n    <tr>\n      <th>197</th>\n      <td>Sonia Ortiz</td>\n      <td></td>\n      <td>03/26/2021</td>\n      <td>3 years ago</td>\n      <td>5</td>\n      <td>0</td>\n      <td>1</td>\n      <td>1</td>\n      <td>https://www.google.com/maps/contrib/1123192890...</td>\n      <td>BJ's Wholesale  278 Middlesex Avenue Medford M...</td>\n      <td>https://www.google.com/maps/place/BJ's+Wholesa...</td>\n    </tr>\n    <tr>\n      <th>198</th>\n      <td>William Gokey</td>\n      <td></td>\n      <td>03/26/2021</td>\n      <td>3 years ago</td>\n      <td>5</td>\n      <td>0</td>\n      <td>0</td>\n      <td>6</td>\n      <td>https://www.google.com/maps/contrib/1089534147...</td>\n      <td>BJ's Wholesale  278 Middlesex Avenue Medford M...</td>\n      <td>https://www.google.com/maps/place/BJ's+Wholesa...</td>\n    </tr>\n    <tr>\n      <th>199</th>\n      <td>Marlon Williams</td>\n      <td></td>\n      <td>03/26/2021</td>\n      <td>3 years ago</td>\n      <td>5</td>\n      <td>0</td>\n      <td>0</td>\n      <td>0</td>\n      <td>https://www.google.com/maps/contrib/1116221582...</td>\n      <td>BJ's Wholesale  278 Middlesex Avenue Medford M...</td>\n      <td>https://www.google.com/maps/place/BJ's+Wholesa...</td>\n    </tr>\n    <tr>\n      <th>200</th>\n      <td>Vishal Makwana</td>\n      <td></td>\n      <td>03/26/2021</td>\n      <td>4 years ago</td>\n      <td>4</td>\n      <td>0</td>\n      <td>1</td>\n      <td>10</td>\n      <td>https://www.google.com/maps/contrib/1181828560...</td>\n      <td>BJ's Wholesale  278 Middlesex Avenue Medford M...</td>\n      <td>https://www.google.com/maps/place/BJ's+Wholesa...</td>\n    </tr>\n  </tbody>\n</table>\n<p>201 rows × 11 columns</p>\n</div>"
     },
     "metadata": {},
     "execution_count": 356
    }
   ],
   "source": [
    "reviews"
   ]
  },
  {
   "cell_type": "code",
   "execution_count": 362,
   "metadata": {},
   "outputs": [],
   "source": [
    "reviews.to_csv(f'{location[\"Company\"][0]}_{\"000\"}_Reviews.csv', index=False)"
   ]
  }
 ]
}