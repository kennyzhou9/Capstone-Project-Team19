{
 "metadata": {
  "language_info": {
   "codemirror_mode": {
    "name": "ipython",
    "version": 3
   },
   "file_extension": ".py",
   "mimetype": "text/x-python",
   "name": "python",
   "nbconvert_exporter": "python",
   "pygments_lexer": "ipython3",
   "version": "3.8.5"
  },
  "orig_nbformat": 4,
  "kernelspec": {
   "name": "python3",
   "display_name": "Python 3.8.5 64-bit ('QST_BA': conda)"
  },
  "interpreter": {
   "hash": "4c0bfb3f782de325ad29fca3e7f49701831d88115e99ca6c22d78d2885f399ff"
  }
 },
 "nbformat": 4,
 "nbformat_minor": 2,
 "cells": [
  {
   "cell_type": "code",
   "execution_count": 1,
   "metadata": {},
   "outputs": [],
   "source": [
    "import datetime \n",
    "from dateutil.relativedelta import *\n",
    "import os\n",
    "import re \n",
    "import string\n",
    "import nltk\n",
    "import pandas as pd \n",
    "import numpy as np"
   ]
  },
  {
   "cell_type": "code",
   "execution_count": 2,
   "metadata": {},
   "outputs": [],
   "source": [
    "# Import Data\n",
    "bjs = pd.read_csv(\"Scrape_data/bj_reviews_all.csv\")\n",
    "costco = pd.read_csv(\"Scrape_data/costco_reviews_all.csv\")\n",
    "sams = pd.read_csv(\"Scrape_data/samsclub_reviews_all.csv\")\n",
    "walmart = pd.read_csv(\"Scrape_data/walmart_reviews_all.csv\")\n",
    "\n",
    "bjs_location = pd.read_csv(\"overview_competitors/bj_location_overview_all.csv\")\n",
    "costco_location = pd.read_csv(\"overview_competitors/costco_location_overview_all.csv\")\n",
    "sams_location = pd.read_csv(\"overview_competitors/samsclub_location_overview_all.csv\")\n",
    "walmart_location = pd.read_csv(\"overview_competitors/walmart_location_overview_all.csv\")\n",
    "\n",
    "long_lad = pd.read_csv(\"Location list (002) with URLs.csv\")\n",
    "long_lad['location'] = long_lad.Address + ', ' + long_lad.City + ', ' + long_lad.State + \" \" + long_lad[\"Zip Code\"]"
   ]
  },
  {
   "cell_type": "code",
   "execution_count": 3,
   "metadata": {},
   "outputs": [],
   "source": [
    "# Drop Unnamed Useless columns\n",
    "sams_location.drop('Unnamed: 0', axis = 1,inplace=True)\n",
    "walmart_location.drop('Unnamed: 0', axis = 1,inplace=True)"
   ]
  },
  {
   "cell_type": "code",
   "execution_count": 4,
   "metadata": {},
   "outputs": [],
   "source": [
    "# Clean Data\n",
    "walmart.location_code = walmart.location_code.apply(lambda x: int(x))"
   ]
  },
  {
   "cell_type": "code",
   "execution_count": null,
   "metadata": {},
   "outputs": [],
   "source": [
    "# # Alighing Stores\n",
    "\n",
    "# Missing 19 stores\n",
    "# long_lad.Company.value_counts()\n",
    "# all_location.store.value_counts()\n",
    "\n",
    "# 19 Missing stores were truncated from all_locations at some point\n",
    "# long_lad.loc[long_lad.Company == \"BJ's Wholesale \",\"location\"][-21:-15]\n",
    "# all_location.loc[all_location.store == \"BJs\",\"location\"][-2:]"
   ]
  },
  {
   "cell_type": "code",
   "execution_count": 5,
   "metadata": {},
   "outputs": [],
   "source": [
    "# Adding Longitude and Latitude\n",
    "costco_location = pd.concat([costco_location, long_lad.loc[long_lad.Company == \"Costco\",\"Longitude\"].reset_index(drop=True)], axis =1)\n",
    "costco_location = pd.concat([costco_location, long_lad.loc[long_lad.Company == \"Costco\",\"Latitude\"].reset_index(drop=True)], axis =1)\n",
    "costco_location\n",
    "\n",
    "sams_location = pd.concat([sams_location, long_lad.loc[long_lad.Company == \"Sam's Club\",\"Longitude\"].reset_index(drop=True)], axis =1)\n",
    "sams_location = pd.concat([sams_location, long_lad.loc[long_lad.Company == \"Sam's Club\",\"Latitude\"].reset_index(drop=True)], axis =1)\n",
    "\n",
    "walmart_location = pd.concat([walmart_location, long_lad.loc[long_lad.Company == \"Walmart\",\"Longitude\"].reset_index(drop=True)], axis =1)\n",
    "walmart_location = pd.concat([walmart_location, long_lad.loc[long_lad.Company == \"Walmart\",\"Latitude\"].reset_index(drop=True)], axis =1)"
   ]
  },
  {
   "cell_type": "code",
   "execution_count": 6,
   "metadata": {},
   "outputs": [],
   "source": [
    "bjs_location = pd.concat([bjs_location, long_lad.loc[long_lad.Company == \"BJ's Wholesale \",\"Longitude\"][:200].reset_index(drop=True)], axis =1)\n",
    "bjs_location = pd.concat([bjs_location, long_lad.loc[long_lad.Company == \"BJ's Wholesale \",\"Latitude\"][:200].reset_index(drop=True)], axis =1)"
   ]
  },
  {
   "cell_type": "code",
   "execution_count": 7,
   "metadata": {},
   "outputs": [],
   "source": [
    "# Assign store label\n",
    "bjs_location[\"store\"] = \"BJs\"\n",
    "costco_location[\"store\"] = \"Costco\"\n",
    "sams_location[\"store\"] = \"Sams\"\n",
    "walmart_location[\"store\"] = \"Walmart\"\n",
    "\n",
    "# Assign store label\n",
    "bjs[\"store\"] = \"BJs\"\n",
    "costco[\"store\"] = \"Costco\"\n",
    "sams[\"store\"] = \"Sams\"\n",
    "walmart[\"store\"] = \"Walmart\""
   ]
  },
  {
   "cell_type": "code",
   "execution_count": 9,
   "metadata": {},
   "outputs": [],
   "source": [
    "# Concats all locations\n",
    "all_location = pd.concat([bjs_location, costco_location, sams_location, walmart_location], ignore_index=True)\n",
    "all_location[\"loc_code\"] = range(1,len(all_location)+1)\n",
    "\n",
    "# Concats all reviews\n",
    "all_reviews = pd.concat([bjs, costco, sams, walmart], ignore_index=True)\n",
    "\n",
    "# Merging all_reviews on \"store\" and \"location_code\" keys\n",
    "all_data = pd.merge(all_reviews, all_location, on=[\"store\", \"location_code\"])"
   ]
  },
  {
   "cell_type": "code",
   "execution_count": 10,
   "metadata": {},
   "outputs": [],
   "source": [
    "all_location.to_csv(\"tableau_all_locations.csv\", header=True, index = False)\n",
    "all_reviews.to_csv(\"tableau_all_reviews.csv\", header=True, index = False)\n",
    "all_data.to_csv(\"tableau_all_data.csv\", header=True, index = False)"
   ]
  }
 ]
}