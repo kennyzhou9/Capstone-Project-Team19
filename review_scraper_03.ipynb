{
 "metadata": {
  "language_info": {
   "codemirror_mode": {
    "name": "ipython",
    "version": 3
   },
   "file_extension": ".py",
   "mimetype": "text/x-python",
   "name": "python",
   "nbconvert_exporter": "python",
   "pygments_lexer": "ipython3",
   "version": "3.8.5"
  },
  "orig_nbformat": 2,
  "kernelspec": {
   "name": "python385jvsc74a57bd04c0bfb3f782de325ad29fca3e7f49701831d88115e99ca6c22d78d2885f399ff",
   "display_name": "Python 3.8.5 64-bit ('QST_BA': conda)"
  }
 },
 "nbformat": 4,
 "nbformat_minor": 2,
 "cells": [
  {
   "cell_type": "code",
   "execution_count": 77,
   "metadata": {},
   "outputs": [],
   "source": [
    "from selenium import webdriver\n",
    "from selenium.webdriver.common.keys import Keys\n",
    "from selenium.webdriver.common.by import By\n",
    "from selenium.webdriver.support.ui import WebDriverWait\n",
    "from selenium.webdriver.support import expected_conditions as EC\n",
    "from selenium.webdriver.chrome.options import Options\n",
    "from selenium.webdriver.common.action_chains import ActionChains\n",
    "\n",
    "from datetime import datetime, date, timedelta\n",
    "from time import sleep\n",
    "import numpy as np\n",
    "import pandas as pd\n",
    "import re\n",
    "from re import search"
   ]
  },
  {
   "cell_type": "code",
   "execution_count": 60,
   "metadata": {},
   "outputs": [],
   "source": [
    "# Scraper Tool\n",
    "def scrape():\n",
    "    temp = []\n",
    "    time = datetime.now().strftime(\"%m/%d/%Y %H:%M:%S\")\n",
    "    # element to get all of the content\n",
    "    contents =  driver.find_elements_by_class_name(\"tip-item\")\n",
    "    # element to get the star ratings\n",
    "    items = driver.find_elements_by_xpath(\"/html/body/div[5]/div[2]/div[4]/div[*]/div[2]/ul\") \n",
    "\n",
    "    rating = []\n",
    "    for item in items:\n",
    "        sub_items = item.find_elements(By.TAG_NAME, 'svg')\n",
    "        rating_temp = []\n",
    "        for sub_item in sub_items:\n",
    "            rating_temp.append(sub_item.get_attribute(\"class\"))\n",
    "        rating.append(rating_temp.count(\"full-star\"))\n",
    "\n",
    "    for i, content in enumerate(contents[8:]):\n",
    "            temp.append(content.text + f\"\\n{time}\"+ f\"\\n{rating[i]}\")\n",
    "\n",
    "    return temp"
   ]
  },
  {
   "source": [
    "# BJ's Data Collection"
   ],
   "cell_type": "markdown",
   "metadata": {}
  },
  {
   "cell_type": "code",
   "execution_count": 119,
   "metadata": {},
   "outputs": [],
   "source": [
    "# PATH = \"C:\\Program Files (x86)\\chromedriver.exe\"\n",
    "# driver = webdriver.Chrome(PATH)\n",
    "# driver.get(\"https://www.groupon.com/deals/n-bjs-wholesale-club-memberships\") #BJ's\n",
    "# driver.maximize_window()\n",
    "\n",
    "# sleep(4)\n",
    "\n",
    "# all_reviews = driver.find_element_by_xpath(\"/html/body/section[2]/div/section/div/div[2]/div[2]/section/div/div/article/div[3]/div[2]/div[2]/a\")\n",
    "\n",
    "# all_reviews.click()"
   ]
  },
  {
   "cell_type": "code",
   "execution_count": 121,
   "metadata": {},
   "outputs": [],
   "source": [
    "# temp = []\n",
    "# for i in range(538): #538 Pages\n",
    "    \n",
    "#     for j in scrape():\n",
    "#         temp.append(j)\n",
    "#     next_button = driver.find_element_by_xpath(\"/html/body/div[*]/div[2]/div[5]/div[2]\")\n",
    "#     next_button.click()\n",
    "\n",
    "#     reviews_bj = pd.DataFrame(temp, columns= [\"full\"])\n",
    "\n",
    "#     sleep(3)\n",
    "\n",
    "# reviews = reviews_bj.copy()"
   ]
  },
  {
   "cell_type": "code",
   "execution_count": 123,
   "metadata": {},
   "outputs": [],
   "source": [
    "# reviews[\"split\"] =reviews[\"full\"].str.split(\"\\n\")\n",
    "# reviews[\"length\"] = [len(i) for i in reviews.split]"
   ]
  },
  {
   "cell_type": "code",
   "execution_count": 124,
   "metadata": {},
   "outputs": [
    {
     "output_type": "execute_result",
     "data": {
      "text/plain": [
       "8    5357\n",
       "7      16\n",
       "6       2\n",
       "Name: length, dtype: int64"
      ]
     },
     "metadata": {},
     "execution_count": 124
    }
   ],
   "source": [
    "# # Not all reviews are the same. Some missing elements\n",
    "# reviews.length.value_counts()\n",
    "# reviews.loc[reviews.length == 8,\"split\"]#[4141]\n",
    "# reviews.loc[reviews.length == 7,\"split\"]#[600]\n",
    "# reviews.loc[reviews.length == 6,\"split\"]#[0]"
   ]
  },
  {
   "cell_type": "code",
   "execution_count": 126,
   "metadata": {},
   "outputs": [],
   "source": [
    "# reviews[\"title\"] = \"\"\n",
    "# reviews[\"subtitle\"] = \"\"\n",
    "# reviews[\"date_published\"] = \"\"\n",
    "# reviews[\"text\"] = \"\"\n",
    "# reviews[\"date_scraped\"] = \"\"\n",
    "# reviews[\"rating\"] = \"\""
   ]
  },
  {
   "cell_type": "code",
   "execution_count": 128,
   "metadata": {
    "tags": []
   },
   "outputs": [],
   "source": [
    "# # parsing out split to approriate column based on length\n",
    "\n",
    "# for i, split in enumerate(reviews.split):\n",
    "\n",
    "#     if reviews.length[i] == 8:\n",
    "#         reviews.loc[reviews.index == i,\"title\"] = split[1]\n",
    "#         reviews.loc[reviews.index == i,\"subtitle\"] = split[2]\n",
    "#         reviews.loc[reviews.index == i,\"date_published\"] = split[3]\n",
    "#         reviews.loc[reviews.index == i,\"text\"] = split[4]\n",
    "#         reviews.loc[reviews.index == i,\"date_scraped\"] =split[6]\n",
    "#         reviews.loc[reviews.index == i,\"rating\"] =split[7]\n",
    "\n",
    "#     elif len(split) == 7:\n",
    "#         reviews.loc[reviews.index == i,\"title\"] = split[1]\n",
    "#         reviews.loc[reviews.index == i,\"subtitle\"] = split[2]\n",
    "#         reviews.loc[reviews.index == i,\"date_published\"] = split[3]\n",
    "#         reviews.loc[reviews.index == i,\"text\"] = \"None\"\n",
    "#         reviews.loc[reviews.index == i,\"date_scraped\"] =split[5]\n",
    "#         reviews.loc[reviews.index == i,\"rating\"] =split[6]\n",
    "\n",
    "#     elif len(split) == 6:\n",
    "#         reviews.loc[reviews.index == i,\"title\"] = \"None\"\n",
    "#         reviews.loc[reviews.index == i,\"subtitle\"] = split[0]\n",
    "#         reviews.loc[reviews.index == i,\"date_published\"] = split[1]\n",
    "#         reviews.loc[reviews.index == i,\"text\"] = split[2]\n",
    "#         reviews.loc[reviews.index == i,\"date_scraped\"] =split[4]\n",
    "#         reviews.loc[reviews.index == i,\"rating\"] =split[5]"
   ]
  },
  {
   "cell_type": "code",
   "execution_count": 130,
   "metadata": {},
   "outputs": [
    {
     "output_type": "execute_result",
     "data": {
      "text/plain": [
       "                                                   full  \\\n",
       "4170  2 ratings2 reviews\\nNovember 18, 2014\\nWorth i...   \n",
       "4706  6 ratings3 reviews\\nMarch 14, 2014\\nBj's has r...   \n",
       "\n",
       "                                                  split  length title  \\\n",
       "4170  [2 ratings2 reviews, November 18, 2014, Worth ...       6  None   \n",
       "4706  [6 ratings3 reviews, March 14, 2014, Bj's has ...       6  None   \n",
       "\n",
       "                subtitle     date_published  \\\n",
       "4170  2 ratings2 reviews  November 18, 2014   \n",
       "4706  6 ratings3 reviews     March 14, 2014   \n",
       "\n",
       "                                                   text         date_scraped  \\\n",
       "4170                                           Worth it  04/07/2021 13:35:28   \n",
       "4706  Bj's has really improved. Great selection of g...  04/07/2021 13:38:46   \n",
       "\n",
       "     rating  \n",
       "4170      5  \n",
       "4706      5  "
      ],
      "text/html": "<div>\n<style scoped>\n    .dataframe tbody tr th:only-of-type {\n        vertical-align: middle;\n    }\n\n    .dataframe tbody tr th {\n        vertical-align: top;\n    }\n\n    .dataframe thead th {\n        text-align: right;\n    }\n</style>\n<table border=\"1\" class=\"dataframe\">\n  <thead>\n    <tr style=\"text-align: right;\">\n      <th></th>\n      <th>full</th>\n      <th>split</th>\n      <th>length</th>\n      <th>title</th>\n      <th>subtitle</th>\n      <th>date_published</th>\n      <th>text</th>\n      <th>date_scraped</th>\n      <th>rating</th>\n    </tr>\n  </thead>\n  <tbody>\n    <tr>\n      <th>4170</th>\n      <td>2 ratings2 reviews\\nNovember 18, 2014\\nWorth i...</td>\n      <td>[2 ratings2 reviews, November 18, 2014, Worth ...</td>\n      <td>6</td>\n      <td>None</td>\n      <td>2 ratings2 reviews</td>\n      <td>November 18, 2014</td>\n      <td>Worth it</td>\n      <td>04/07/2021 13:35:28</td>\n      <td>5</td>\n    </tr>\n    <tr>\n      <th>4706</th>\n      <td>6 ratings3 reviews\\nMarch 14, 2014\\nBj's has r...</td>\n      <td>[6 ratings3 reviews, March 14, 2014, Bj's has ...</td>\n      <td>6</td>\n      <td>None</td>\n      <td>6 ratings3 reviews</td>\n      <td>March 14, 2014</td>\n      <td>Bj's has really improved. Great selection of g...</td>\n      <td>04/07/2021 13:38:46</td>\n      <td>5</td>\n    </tr>\n  </tbody>\n</table>\n</div>"
     },
     "metadata": {},
     "execution_count": 130
    }
   ],
   "source": [
    "# Checked reviews \n",
    "# reviews.loc[reviews.length == 8,]\n",
    "reviews.loc[reviews.length == 7,]\n",
    "# reviews.loc[reviews.length == 6,]"
   ]
  },
  {
   "cell_type": "code",
   "execution_count": 139,
   "metadata": {},
   "outputs": [
    {
     "output_type": "execute_result",
     "data": {
      "text/plain": [
       "                                                   full  \\\n",
       "627   T\\nTenielleTOP REVIEWER\\n15 ratings7 reviews\\n...   \n",
       "629   L\\nLeslie\\n2 ratings1 reviews\\nJuly 25, 2019\\n...   \n",
       "636   M\\nMARIA\\n12 ratings4 reviews\\nJuly 25, 2019\\n...   \n",
       "690   M\\nMadeleyne\\n1 ratings1 reviews\\nJuly 15, 201...   \n",
       "733   S\\nSucheta\\n5 ratings3 reviews\\nJuly 4, 2019\\n...   \n",
       "744   A\\nAnna\\n1 ratings1 reviews\\nJuly 2, 2019\\nHel...   \n",
       "760   M\\nMichaelHELPFUL REVIEWER\\n11 ratings4 review...   \n",
       "800   A\\nAlberto\\n1 ratings1 reviews\\nJune 9, 2019\\n...   \n",
       "827   S\\nSascha\\n10 ratings4 reviews\\nJune 1, 2019\\n...   \n",
       "895   N\\nNick\\n1 ratings1 reviews\\nMay 10, 2019\\nHel...   \n",
       "1017  K\\nKatherine\\n2 ratings2 reviews\\nApril 12, 20...   \n",
       "1190  C\\nCharles\\n3 ratings1 reviews\\nSeptember 8, 2...   \n",
       "1207  K\\nKeith\\n1 ratings1 reviews\\nAugust 23, 2018\\...   \n",
       "1216  S\\nSallyTOP REVIEWERHELPFUL REVIEWER\\n71 ratin...   \n",
       "1276  A\\nArgHELPFUL REVIEWER\\n5 ratings3 reviews\\nJu...   \n",
       "4690  TOP REVIEWER\\n15 ratings14 reviews\\nMarch 27, ...   \n",
       "\n",
       "                                                  split  length  \\\n",
       "627   [T, TenielleTOP REVIEWER, 15 ratings7 reviews,...       7   \n",
       "629   [L, Leslie, 2 ratings1 reviews, July 25, 2019,...       7   \n",
       "636   [M, MARIA, 12 ratings4 reviews, July 25, 2019,...       7   \n",
       "690   [M, Madeleyne, 1 ratings1 reviews, July 15, 20...       7   \n",
       "733   [S, Sucheta, 5 ratings3 reviews, July 4, 2019,...       7   \n",
       "744   [A, Anna, 1 ratings1 reviews, July 2, 2019, He...       7   \n",
       "760   [M, MichaelHELPFUL REVIEWER, 11 ratings4 revie...       7   \n",
       "800   [A, Alberto, 1 ratings1 reviews, June 9, 2019,...       7   \n",
       "827   [S, Sascha, 10 ratings4 reviews, June 1, 2019,...       7   \n",
       "895   [N, Nick, 1 ratings1 reviews, May 10, 2019, He...       7   \n",
       "1017  [K, Katherine, 2 ratings2 reviews, April 12, 2...       7   \n",
       "1190  [C, Charles, 3 ratings1 reviews, September 8, ...       7   \n",
       "1207  [K, Keith, 1 ratings1 reviews, August 23, 2018...       7   \n",
       "1216  [S, SallyTOP REVIEWERHELPFUL REVIEWER, 71 rati...       7   \n",
       "1276  [A, ArgHELPFUL REVIEWER, 5 ratings3 reviews, J...       7   \n",
       "4690  [TOP REVIEWER, 15 ratings14 reviews, March 27,...       7   \n",
       "\n",
       "                                  title              subtitle  \\\n",
       "627                TenielleTOP REVIEWER   15 ratings7 reviews   \n",
       "629                              Leslie    2 ratings1 reviews   \n",
       "636                               MARIA   12 ratings4 reviews   \n",
       "690                           Madeleyne    1 ratings1 reviews   \n",
       "733                             Sucheta    5 ratings3 reviews   \n",
       "744                                Anna    1 ratings1 reviews   \n",
       "760             MichaelHELPFUL REVIEWER   11 ratings4 reviews   \n",
       "800                             Alberto    1 ratings1 reviews   \n",
       "827                              Sascha   10 ratings4 reviews   \n",
       "895                                Nick    1 ratings1 reviews   \n",
       "1017                          Katherine    2 ratings2 reviews   \n",
       "1190                            Charles    3 ratings1 reviews   \n",
       "1207                              Keith    1 ratings1 reviews   \n",
       "1216  SallyTOP REVIEWERHELPFUL REVIEWER  71 ratings38 reviews   \n",
       "1276                ArgHELPFUL REVIEWER    5 ratings3 reviews   \n",
       "4690                   NoneTOP REVIEWER  15 ratings14 reviews   \n",
       "\n",
       "         date_published                                               text  \\\n",
       "627       July 25, 2019                                               None   \n",
       "629       July 25, 2019                                               None   \n",
       "636       July 25, 2019                                               None   \n",
       "690       July 15, 2019                                               None   \n",
       "733        July 4, 2019                                               None   \n",
       "744        July 2, 2019                                               None   \n",
       "760       June 24, 2019                                               None   \n",
       "800        June 9, 2019                                               None   \n",
       "827        June 1, 2019                                               None   \n",
       "895        May 10, 2019                                               None   \n",
       "1017     April 12, 2019                                               None   \n",
       "1190  September 8, 2018                                               None   \n",
       "1207    August 23, 2018                                               None   \n",
       "1216    August 19, 2018                                               None   \n",
       "1276      July 31, 2018                                               None   \n",
       "4690     March 27, 2014  Still awaiting answer on if membersship is for...   \n",
       "\n",
       "             date_scraped rating  \n",
       "627   04/07/2021 13:13:15      5  \n",
       "629   04/07/2021 13:13:15      5  \n",
       "636   04/07/2021 13:13:19      5  \n",
       "690   04/07/2021 13:13:42      5  \n",
       "733   04/07/2021 13:13:57      4  \n",
       "744   04/07/2021 13:14:01      5  \n",
       "760   04/07/2021 13:14:08      5  \n",
       "800   04/07/2021 13:14:23      5  \n",
       "827   04/07/2021 13:14:30      5  \n",
       "895   04/07/2021 13:14:56      5  \n",
       "1017  04/07/2021 13:15:41      5  \n",
       "1190  04/07/2021 13:16:49      5  \n",
       "1207  04/07/2021 13:16:52      5  \n",
       "1216  04/07/2021 13:16:56      3  \n",
       "1276  04/07/2021 13:17:19      3  \n",
       "4690  04/07/2021 13:38:42      5  "
      ],
      "text/html": "<div>\n<style scoped>\n    .dataframe tbody tr th:only-of-type {\n        vertical-align: middle;\n    }\n\n    .dataframe tbody tr th {\n        vertical-align: top;\n    }\n\n    .dataframe thead th {\n        text-align: right;\n    }\n</style>\n<table border=\"1\" class=\"dataframe\">\n  <thead>\n    <tr style=\"text-align: right;\">\n      <th></th>\n      <th>full</th>\n      <th>split</th>\n      <th>length</th>\n      <th>title</th>\n      <th>subtitle</th>\n      <th>date_published</th>\n      <th>text</th>\n      <th>date_scraped</th>\n      <th>rating</th>\n    </tr>\n  </thead>\n  <tbody>\n    <tr>\n      <th>627</th>\n      <td>T\\nTenielleTOP REVIEWER\\n15 ratings7 reviews\\n...</td>\n      <td>[T, TenielleTOP REVIEWER, 15 ratings7 reviews,...</td>\n      <td>7</td>\n      <td>TenielleTOP REVIEWER</td>\n      <td>15 ratings7 reviews</td>\n      <td>July 25, 2019</td>\n      <td>None</td>\n      <td>04/07/2021 13:13:15</td>\n      <td>5</td>\n    </tr>\n    <tr>\n      <th>629</th>\n      <td>L\\nLeslie\\n2 ratings1 reviews\\nJuly 25, 2019\\n...</td>\n      <td>[L, Leslie, 2 ratings1 reviews, July 25, 2019,...</td>\n      <td>7</td>\n      <td>Leslie</td>\n      <td>2 ratings1 reviews</td>\n      <td>July 25, 2019</td>\n      <td>None</td>\n      <td>04/07/2021 13:13:15</td>\n      <td>5</td>\n    </tr>\n    <tr>\n      <th>636</th>\n      <td>M\\nMARIA\\n12 ratings4 reviews\\nJuly 25, 2019\\n...</td>\n      <td>[M, MARIA, 12 ratings4 reviews, July 25, 2019,...</td>\n      <td>7</td>\n      <td>MARIA</td>\n      <td>12 ratings4 reviews</td>\n      <td>July 25, 2019</td>\n      <td>None</td>\n      <td>04/07/2021 13:13:19</td>\n      <td>5</td>\n    </tr>\n    <tr>\n      <th>690</th>\n      <td>M\\nMadeleyne\\n1 ratings1 reviews\\nJuly 15, 201...</td>\n      <td>[M, Madeleyne, 1 ratings1 reviews, July 15, 20...</td>\n      <td>7</td>\n      <td>Madeleyne</td>\n      <td>1 ratings1 reviews</td>\n      <td>July 15, 2019</td>\n      <td>None</td>\n      <td>04/07/2021 13:13:42</td>\n      <td>5</td>\n    </tr>\n    <tr>\n      <th>733</th>\n      <td>S\\nSucheta\\n5 ratings3 reviews\\nJuly 4, 2019\\n...</td>\n      <td>[S, Sucheta, 5 ratings3 reviews, July 4, 2019,...</td>\n      <td>7</td>\n      <td>Sucheta</td>\n      <td>5 ratings3 reviews</td>\n      <td>July 4, 2019</td>\n      <td>None</td>\n      <td>04/07/2021 13:13:57</td>\n      <td>4</td>\n    </tr>\n    <tr>\n      <th>744</th>\n      <td>A\\nAnna\\n1 ratings1 reviews\\nJuly 2, 2019\\nHel...</td>\n      <td>[A, Anna, 1 ratings1 reviews, July 2, 2019, He...</td>\n      <td>7</td>\n      <td>Anna</td>\n      <td>1 ratings1 reviews</td>\n      <td>July 2, 2019</td>\n      <td>None</td>\n      <td>04/07/2021 13:14:01</td>\n      <td>5</td>\n    </tr>\n    <tr>\n      <th>760</th>\n      <td>M\\nMichaelHELPFUL REVIEWER\\n11 ratings4 review...</td>\n      <td>[M, MichaelHELPFUL REVIEWER, 11 ratings4 revie...</td>\n      <td>7</td>\n      <td>MichaelHELPFUL REVIEWER</td>\n      <td>11 ratings4 reviews</td>\n      <td>June 24, 2019</td>\n      <td>None</td>\n      <td>04/07/2021 13:14:08</td>\n      <td>5</td>\n    </tr>\n    <tr>\n      <th>800</th>\n      <td>A\\nAlberto\\n1 ratings1 reviews\\nJune 9, 2019\\n...</td>\n      <td>[A, Alberto, 1 ratings1 reviews, June 9, 2019,...</td>\n      <td>7</td>\n      <td>Alberto</td>\n      <td>1 ratings1 reviews</td>\n      <td>June 9, 2019</td>\n      <td>None</td>\n      <td>04/07/2021 13:14:23</td>\n      <td>5</td>\n    </tr>\n    <tr>\n      <th>827</th>\n      <td>S\\nSascha\\n10 ratings4 reviews\\nJune 1, 2019\\n...</td>\n      <td>[S, Sascha, 10 ratings4 reviews, June 1, 2019,...</td>\n      <td>7</td>\n      <td>Sascha</td>\n      <td>10 ratings4 reviews</td>\n      <td>June 1, 2019</td>\n      <td>None</td>\n      <td>04/07/2021 13:14:30</td>\n      <td>5</td>\n    </tr>\n    <tr>\n      <th>895</th>\n      <td>N\\nNick\\n1 ratings1 reviews\\nMay 10, 2019\\nHel...</td>\n      <td>[N, Nick, 1 ratings1 reviews, May 10, 2019, He...</td>\n      <td>7</td>\n      <td>Nick</td>\n      <td>1 ratings1 reviews</td>\n      <td>May 10, 2019</td>\n      <td>None</td>\n      <td>04/07/2021 13:14:56</td>\n      <td>5</td>\n    </tr>\n    <tr>\n      <th>1017</th>\n      <td>K\\nKatherine\\n2 ratings2 reviews\\nApril 12, 20...</td>\n      <td>[K, Katherine, 2 ratings2 reviews, April 12, 2...</td>\n      <td>7</td>\n      <td>Katherine</td>\n      <td>2 ratings2 reviews</td>\n      <td>April 12, 2019</td>\n      <td>None</td>\n      <td>04/07/2021 13:15:41</td>\n      <td>5</td>\n    </tr>\n    <tr>\n      <th>1190</th>\n      <td>C\\nCharles\\n3 ratings1 reviews\\nSeptember 8, 2...</td>\n      <td>[C, Charles, 3 ratings1 reviews, September 8, ...</td>\n      <td>7</td>\n      <td>Charles</td>\n      <td>3 ratings1 reviews</td>\n      <td>September 8, 2018</td>\n      <td>None</td>\n      <td>04/07/2021 13:16:49</td>\n      <td>5</td>\n    </tr>\n    <tr>\n      <th>1207</th>\n      <td>K\\nKeith\\n1 ratings1 reviews\\nAugust 23, 2018\\...</td>\n      <td>[K, Keith, 1 ratings1 reviews, August 23, 2018...</td>\n      <td>7</td>\n      <td>Keith</td>\n      <td>1 ratings1 reviews</td>\n      <td>August 23, 2018</td>\n      <td>None</td>\n      <td>04/07/2021 13:16:52</td>\n      <td>5</td>\n    </tr>\n    <tr>\n      <th>1216</th>\n      <td>S\\nSallyTOP REVIEWERHELPFUL REVIEWER\\n71 ratin...</td>\n      <td>[S, SallyTOP REVIEWERHELPFUL REVIEWER, 71 rati...</td>\n      <td>7</td>\n      <td>SallyTOP REVIEWERHELPFUL REVIEWER</td>\n      <td>71 ratings38 reviews</td>\n      <td>August 19, 2018</td>\n      <td>None</td>\n      <td>04/07/2021 13:16:56</td>\n      <td>3</td>\n    </tr>\n    <tr>\n      <th>1276</th>\n      <td>A\\nArgHELPFUL REVIEWER\\n5 ratings3 reviews\\nJu...</td>\n      <td>[A, ArgHELPFUL REVIEWER, 5 ratings3 reviews, J...</td>\n      <td>7</td>\n      <td>ArgHELPFUL REVIEWER</td>\n      <td>5 ratings3 reviews</td>\n      <td>July 31, 2018</td>\n      <td>None</td>\n      <td>04/07/2021 13:17:19</td>\n      <td>3</td>\n    </tr>\n    <tr>\n      <th>4690</th>\n      <td>TOP REVIEWER\\n15 ratings14 reviews\\nMarch 27, ...</td>\n      <td>[TOP REVIEWER, 15 ratings14 reviews, March 27,...</td>\n      <td>7</td>\n      <td>NoneTOP REVIEWER</td>\n      <td>15 ratings14 reviews</td>\n      <td>March 27, 2014</td>\n      <td>Still awaiting answer on if membersship is for...</td>\n      <td>04/07/2021 13:38:42</td>\n      <td>5</td>\n    </tr>\n  </tbody>\n</table>\n</div>"
     },
     "metadata": {},
     "execution_count": 139
    }
   ],
   "source": [
    "# # Found an anomly with reviews with length 6. Some have no rating but have text. Some have no text but ratings. Some have no text or ratings but are a TOP/HELPFUL Reviewer.\n",
    "\n",
    "# no_subtitle = reviews.index[reviews.subtitle.str.contains(\"rating|reviews\") == False].tolist()\n",
    "# no_title = reviews.index[reviews.title.str.contains(\"rating\")].tolist()\n",
    "\n",
    "# for i, split in enumerate(reviews.split):\n",
    "\n",
    "#     if len(split) == 7 and (i in no_subtitle):\n",
    "#         reviews.loc[reviews.index == i,\"title\"] = split[1]\n",
    "#         reviews.loc[reviews.index == i,\"subtitle\"] = \"None\"\n",
    "#         reviews.loc[reviews.index == i,\"date_published\"] = split[2]\n",
    "#         reviews.loc[reviews.index == i,\"text\"] = split[3]\n",
    "#         reviews.loc[reviews.index == i,\"date_scraped\"] =split[5]\n",
    "\n",
    "#     if len(split) == 7 and (i in no_title):\n",
    "#         reviews.loc[reviews.index == i,\"title\"] = \"None\" + split[0]\n",
    "#         reviews.loc[reviews.index == i,\"subtitle\"] = split[1]\n",
    "#         reviews.loc[reviews.index == i,\"date_published\"] = split[2]\n",
    "#         reviews.loc[reviews.index == i,\"text\"] = split[3]\n",
    "#         reviews.loc[reviews.index == i,\"date_scraped\"] = split[5]\n",
    "\n",
    "# # Check \n",
    "# reviews.loc[reviews.length == 7,]\n"
   ]
  },
  {
   "cell_type": "code",
   "execution_count": 140,
   "metadata": {},
   "outputs": [],
   "source": [
    "# # # Parsing out title and subtitle columns further\n",
    "\n",
    "# reviews[\"top_reviewer\"] = [1 if (\"TOP REVIEWER\" in i) else 0 for i in reviews.title]\n",
    "# reviews[\"helpful_reviewer\"] = [1 if (\"HELPFUL REVIEWER\" in i) else 0 for i in reviews.title]\n",
    "# reviews[\"rating_count\"] = [int(re.findall(r'\\d+',i)[0]) if len(re.findall(r'\\d+',i))>0 else 0 for i in reviews.subtitle]\n",
    "# reviews[\"name\"] = [re.split('TOP REVIEWER|HELPFUL REVIEWER',i)[0] for i in reviews.title]\n",
    "\n",
    "# reviews[\"review_count\"] = 0\n",
    "# for i, subtitle in enumerate(reviews.subtitle[:10]):\n",
    "#     num = re.findall(r'\\d+',subtitle)\n",
    "#     if len(num) > 0:\n",
    "#         if search (\"rating\", subtitle):\n",
    "#             reviews.loc[reviews.index == i,\"review_count\"] = int(num[1])\n",
    "#         else:\n",
    "#             reviews.loc[reviews.index == i,\"review_count\"] = int(num[0])"
   ]
  },
  {
   "cell_type": "code",
   "execution_count": 141,
   "metadata": {},
   "outputs": [],
   "source": [
    "# # Formating date_published that are in a relative format (# days/hours ago)\n",
    "\n",
    "# for i, date in enumerate(reviews.date_published):\n",
    "    \n",
    "#     if \"ago\" in date:\n",
    "#         if \"day\" in date:\n",
    "#             scraped = datetime.strptime(reviews.date_scraped[i],\"%m/%d/%Y %H:%M:%S\").date()\n",
    "#             ago = timedelta(days = int(re.findall(r'\\d+',date)[0]))\n",
    "#             reviews.loc[reviews.index == i,\"date_published\"] = (scraped - ago).strftime(\"%m/%d/%Y\")\n",
    "#         else:\n",
    "#             reviews.loc[reviews.index == i,\"date_published\"] = reviews.date_scraped[i][:10]\n",
    "#     elif date != \"'\": \n",
    "#         reviews.loc[reviews.index == i,\"date_published\"] = datetime.strptime(reviews.date_published[i],\"%B %d, %Y\").date().strftime(\"%m/%d/%Y\")\n"
   ]
  },
  {
   "cell_type": "code",
   "execution_count": 142,
   "metadata": {},
   "outputs": [
    {
     "output_type": "execute_result",
     "data": {
      "text/plain": [
       "                                                   full  \\\n",
       "0     E\\nEllen\\n2 ratings2 reviews\\nMarch 20, 2021\\n...   \n",
       "1     H\\nHeatherTOP REVIEWERHELPFUL REVIEWER\\n33 rat...   \n",
       "2     J\\nJulietteTOP REVIEWER\\n13 ratings9 reviews4 ...   \n",
       "3     E\\nErika\\n2 ratings1 reviews\\nFebruary 4, 2021...   \n",
       "4     L\\nLinda\\n1 ratings1 reviews\\nFebruary 3, 2021...   \n",
       "...                                                 ...   \n",
       "5370  A\\nAngelaTOP REVIEWER\\n7 ratings6 reviews\\nAug...   \n",
       "5371  T\\nTrennyTOP REVIEWER\\n65 ratings18 reviews\\nA...   \n",
       "5372  J\\nJeremy\\n3 ratings1 reviews\\nAugust 23, 2013...   \n",
       "5373  G\\nGladys\\n5 ratings3 reviews\\nAugust 22, 2013...   \n",
       "5374  J\\nJacquiTOP REVIEWER\\n23 ratings5 reviews\\nAu...   \n",
       "\n",
       "                                                  split  length  \\\n",
       "0     [E, Ellen, 2 ratings2 reviews, March 20, 2021,...       8   \n",
       "1     [H, HeatherTOP REVIEWERHELPFUL REVIEWER, 33 ra...       8   \n",
       "2     [J, JulietteTOP REVIEWER, 13 ratings9 reviews4...       8   \n",
       "3     [E, Erika, 2 ratings1 reviews, February 4, 202...       8   \n",
       "4     [L, Linda, 1 ratings1 reviews, February 3, 202...       8   \n",
       "...                                                 ...     ...   \n",
       "5370  [A, AngelaTOP REVIEWER, 7 ratings6 reviews, Au...       8   \n",
       "5371  [T, TrennyTOP REVIEWER, 65 ratings18 reviews, ...       8   \n",
       "5372  [J, Jeremy, 3 ratings1 reviews, August 23, 201...       8   \n",
       "5373  [G, Gladys, 5 ratings3 reviews, August 22, 201...       8   \n",
       "5374  [J, JacquiTOP REVIEWER, 23 ratings5 reviews, A...       8   \n",
       "\n",
       "                                    title                     subtitle  \\\n",
       "0                                   Ellen           2 ratings2 reviews   \n",
       "1     HeatherTOP REVIEWERHELPFUL REVIEWER         33 ratings28 reviews   \n",
       "2                    JulietteTOP REVIEWER  13 ratings9 reviews4 photos   \n",
       "3                                   Erika           2 ratings1 reviews   \n",
       "4                                   Linda           1 ratings1 reviews   \n",
       "...                                   ...                          ...   \n",
       "5370                   AngelaTOP REVIEWER           7 ratings6 reviews   \n",
       "5371                   TrennyTOP REVIEWER         65 ratings18 reviews   \n",
       "5372                               Jeremy           3 ratings1 reviews   \n",
       "5373                               Gladys           5 ratings3 reviews   \n",
       "5374                   JacquiTOP REVIEWER          23 ratings5 reviews   \n",
       "\n",
       "     date_published                                               text  \\\n",
       "0        03/20/2021  I’ve always appreciated BJ’s and shopped at a ...   \n",
       "1        03/17/2021  Glad I got this. I went there today and got so...   \n",
       "2        02/24/2021  Couldn’t print out a physical card and gave me...   \n",
       "3        02/04/2021  It was very easy, you just show them the barco...   \n",
       "4        02/03/2021  Is a great place for shopping for everyone, es...   \n",
       "...             ...                                                ...   \n",
       "5370     08/24/2013          Can double coupons here compared to other   \n",
       "5371     08/23/2013                                  Best groupon yet!   \n",
       "5372     08/23/2013  This was a great deal and everyone needs to ta...   \n",
       "5373     08/22/2013                                         Good deal.   \n",
       "5374     08/22/2013  The customer service sucked at the first store...   \n",
       "\n",
       "             date_scraped rating  top_reviewer  helpful_reviewer  \\\n",
       "0     04/07/2021 13:09:03      3             0                 0   \n",
       "1     04/07/2021 13:09:03      5             1                 1   \n",
       "2     04/07/2021 13:09:03      1             1                 0   \n",
       "3     04/07/2021 13:09:03      5             0                 0   \n",
       "4     04/07/2021 13:09:03      5             0                 0   \n",
       "...                   ...    ...           ...               ...   \n",
       "5370  04/07/2021 13:43:11      5             1                 0   \n",
       "5371  04/07/2021 13:43:11      5             1                 0   \n",
       "5372  04/07/2021 13:43:11      5             0                 0   \n",
       "5373  04/07/2021 13:43:11      5             0                 0   \n",
       "5374  04/07/2021 13:43:11      1             1                 0   \n",
       "\n",
       "      rating_count      name  review_count  \n",
       "0                2     Ellen             2  \n",
       "1               33   Heather            28  \n",
       "2               13  Juliette             9  \n",
       "3                2     Erika             1  \n",
       "4                1     Linda             1  \n",
       "...            ...       ...           ...  \n",
       "5370             7    Angela             0  \n",
       "5371            65    Trenny             0  \n",
       "5372             3    Jeremy             0  \n",
       "5373             5    Gladys             0  \n",
       "5374            23    Jacqui             0  \n",
       "\n",
       "[5375 rows x 14 columns]"
      ],
      "text/html": "<div>\n<style scoped>\n    .dataframe tbody tr th:only-of-type {\n        vertical-align: middle;\n    }\n\n    .dataframe tbody tr th {\n        vertical-align: top;\n    }\n\n    .dataframe thead th {\n        text-align: right;\n    }\n</style>\n<table border=\"1\" class=\"dataframe\">\n  <thead>\n    <tr style=\"text-align: right;\">\n      <th></th>\n      <th>full</th>\n      <th>split</th>\n      <th>length</th>\n      <th>title</th>\n      <th>subtitle</th>\n      <th>date_published</th>\n      <th>text</th>\n      <th>date_scraped</th>\n      <th>rating</th>\n      <th>top_reviewer</th>\n      <th>helpful_reviewer</th>\n      <th>rating_count</th>\n      <th>name</th>\n      <th>review_count</th>\n    </tr>\n  </thead>\n  <tbody>\n    <tr>\n      <th>0</th>\n      <td>E\\nEllen\\n2 ratings2 reviews\\nMarch 20, 2021\\n...</td>\n      <td>[E, Ellen, 2 ratings2 reviews, March 20, 2021,...</td>\n      <td>8</td>\n      <td>Ellen</td>\n      <td>2 ratings2 reviews</td>\n      <td>03/20/2021</td>\n      <td>I’ve always appreciated BJ’s and shopped at a ...</td>\n      <td>04/07/2021 13:09:03</td>\n      <td>3</td>\n      <td>0</td>\n      <td>0</td>\n      <td>2</td>\n      <td>Ellen</td>\n      <td>2</td>\n    </tr>\n    <tr>\n      <th>1</th>\n      <td>H\\nHeatherTOP REVIEWERHELPFUL REVIEWER\\n33 rat...</td>\n      <td>[H, HeatherTOP REVIEWERHELPFUL REVIEWER, 33 ra...</td>\n      <td>8</td>\n      <td>HeatherTOP REVIEWERHELPFUL REVIEWER</td>\n      <td>33 ratings28 reviews</td>\n      <td>03/17/2021</td>\n      <td>Glad I got this. I went there today and got so...</td>\n      <td>04/07/2021 13:09:03</td>\n      <td>5</td>\n      <td>1</td>\n      <td>1</td>\n      <td>33</td>\n      <td>Heather</td>\n      <td>28</td>\n    </tr>\n    <tr>\n      <th>2</th>\n      <td>J\\nJulietteTOP REVIEWER\\n13 ratings9 reviews4 ...</td>\n      <td>[J, JulietteTOP REVIEWER, 13 ratings9 reviews4...</td>\n      <td>8</td>\n      <td>JulietteTOP REVIEWER</td>\n      <td>13 ratings9 reviews4 photos</td>\n      <td>02/24/2021</td>\n      <td>Couldn’t print out a physical card and gave me...</td>\n      <td>04/07/2021 13:09:03</td>\n      <td>1</td>\n      <td>1</td>\n      <td>0</td>\n      <td>13</td>\n      <td>Juliette</td>\n      <td>9</td>\n    </tr>\n    <tr>\n      <th>3</th>\n      <td>E\\nErika\\n2 ratings1 reviews\\nFebruary 4, 2021...</td>\n      <td>[E, Erika, 2 ratings1 reviews, February 4, 202...</td>\n      <td>8</td>\n      <td>Erika</td>\n      <td>2 ratings1 reviews</td>\n      <td>02/04/2021</td>\n      <td>It was very easy, you just show them the barco...</td>\n      <td>04/07/2021 13:09:03</td>\n      <td>5</td>\n      <td>0</td>\n      <td>0</td>\n      <td>2</td>\n      <td>Erika</td>\n      <td>1</td>\n    </tr>\n    <tr>\n      <th>4</th>\n      <td>L\\nLinda\\n1 ratings1 reviews\\nFebruary 3, 2021...</td>\n      <td>[L, Linda, 1 ratings1 reviews, February 3, 202...</td>\n      <td>8</td>\n      <td>Linda</td>\n      <td>1 ratings1 reviews</td>\n      <td>02/03/2021</td>\n      <td>Is a great place for shopping for everyone, es...</td>\n      <td>04/07/2021 13:09:03</td>\n      <td>5</td>\n      <td>0</td>\n      <td>0</td>\n      <td>1</td>\n      <td>Linda</td>\n      <td>1</td>\n    </tr>\n    <tr>\n      <th>...</th>\n      <td>...</td>\n      <td>...</td>\n      <td>...</td>\n      <td>...</td>\n      <td>...</td>\n      <td>...</td>\n      <td>...</td>\n      <td>...</td>\n      <td>...</td>\n      <td>...</td>\n      <td>...</td>\n      <td>...</td>\n      <td>...</td>\n      <td>...</td>\n    </tr>\n    <tr>\n      <th>5370</th>\n      <td>A\\nAngelaTOP REVIEWER\\n7 ratings6 reviews\\nAug...</td>\n      <td>[A, AngelaTOP REVIEWER, 7 ratings6 reviews, Au...</td>\n      <td>8</td>\n      <td>AngelaTOP REVIEWER</td>\n      <td>7 ratings6 reviews</td>\n      <td>08/24/2013</td>\n      <td>Can double coupons here compared to other</td>\n      <td>04/07/2021 13:43:11</td>\n      <td>5</td>\n      <td>1</td>\n      <td>0</td>\n      <td>7</td>\n      <td>Angela</td>\n      <td>0</td>\n    </tr>\n    <tr>\n      <th>5371</th>\n      <td>T\\nTrennyTOP REVIEWER\\n65 ratings18 reviews\\nA...</td>\n      <td>[T, TrennyTOP REVIEWER, 65 ratings18 reviews, ...</td>\n      <td>8</td>\n      <td>TrennyTOP REVIEWER</td>\n      <td>65 ratings18 reviews</td>\n      <td>08/23/2013</td>\n      <td>Best groupon yet!</td>\n      <td>04/07/2021 13:43:11</td>\n      <td>5</td>\n      <td>1</td>\n      <td>0</td>\n      <td>65</td>\n      <td>Trenny</td>\n      <td>0</td>\n    </tr>\n    <tr>\n      <th>5372</th>\n      <td>J\\nJeremy\\n3 ratings1 reviews\\nAugust 23, 2013...</td>\n      <td>[J, Jeremy, 3 ratings1 reviews, August 23, 201...</td>\n      <td>8</td>\n      <td>Jeremy</td>\n      <td>3 ratings1 reviews</td>\n      <td>08/23/2013</td>\n      <td>This was a great deal and everyone needs to ta...</td>\n      <td>04/07/2021 13:43:11</td>\n      <td>5</td>\n      <td>0</td>\n      <td>0</td>\n      <td>3</td>\n      <td>Jeremy</td>\n      <td>0</td>\n    </tr>\n    <tr>\n      <th>5373</th>\n      <td>G\\nGladys\\n5 ratings3 reviews\\nAugust 22, 2013...</td>\n      <td>[G, Gladys, 5 ratings3 reviews, August 22, 201...</td>\n      <td>8</td>\n      <td>Gladys</td>\n      <td>5 ratings3 reviews</td>\n      <td>08/22/2013</td>\n      <td>Good deal.</td>\n      <td>04/07/2021 13:43:11</td>\n      <td>5</td>\n      <td>0</td>\n      <td>0</td>\n      <td>5</td>\n      <td>Gladys</td>\n      <td>0</td>\n    </tr>\n    <tr>\n      <th>5374</th>\n      <td>J\\nJacquiTOP REVIEWER\\n23 ratings5 reviews\\nAu...</td>\n      <td>[J, JacquiTOP REVIEWER, 23 ratings5 reviews, A...</td>\n      <td>8</td>\n      <td>JacquiTOP REVIEWER</td>\n      <td>23 ratings5 reviews</td>\n      <td>08/22/2013</td>\n      <td>The customer service sucked at the first store...</td>\n      <td>04/07/2021 13:43:11</td>\n      <td>1</td>\n      <td>1</td>\n      <td>0</td>\n      <td>23</td>\n      <td>Jacqui</td>\n      <td>0</td>\n    </tr>\n  </tbody>\n</table>\n<p>5375 rows × 14 columns</p>\n</div>"
     },
     "metadata": {},
     "execution_count": 142
    }
   ],
   "source": [
    "reviews"
   ]
  },
  {
   "cell_type": "code",
   "execution_count": 143,
   "metadata": {},
   "outputs": [],
   "source": [
    "# # BJ's CSV\n",
    "# reviews.to_csv('Groupon_BJs_Raw.csv', index=False)\n",
    "# reviews[['name', 'text', 'rating', 'review_count','top_reviewer', 'helpful_reviewer','date_published','date_scraped']].to_csv('Groupon_BJs.csv', index=False)"
   ]
  },
  {
   "source": [
    "# Sam's Club Data Collection"
   ],
   "cell_type": "markdown",
   "metadata": {}
  },
  {
   "cell_type": "code",
   "execution_count": 84,
   "metadata": {},
   "outputs": [],
   "source": [
    "# PATH = \"C:\\Program Files (x86)\\chromedriver.exe\"\n",
    "# driver = webdriver.Chrome(PATH)\n",
    "# driver.get(\"https://www.groupon.com/deals/n-sams-club-membership-packages-7#tips\") #Sam's Club\n",
    "# driver.maximize_window()\n",
    "\n",
    "# sleep(4)\n",
    "\n",
    "# all_reviews = driver.find_element_by_xpath(\"/html/body/section[2]/div/section/div/div[2]/div[2]/section/div/div/article/div[3]/div[2]/div[2]/a\")\n",
    "# all_reviews.click()"
   ]
  },
  {
   "cell_type": "code",
   "execution_count": 94,
   "metadata": {},
   "outputs": [],
   "source": [
    "#temp = []\n",
    "# for i in range(1732): #2859\n",
    "    \n",
    "#     for j in scrape():\n",
    "#         temp.append(j)\n",
    "#     next_button = driver.find_element_by_xpath(\"/html/body/div[*]/div[2]/div[5]/div[2]\")\n",
    "#     next_button.click()\n",
    "\n",
    "#     reviews_sam = pd.DataFrame(temp, columns= [\"full\"])\n",
    "\n",
    "#     sleep(3)\n",
    "\n",
    "# reviews = reviews_sam.copy()"
   ]
  },
  {
   "cell_type": "code",
   "execution_count": 96,
   "metadata": {},
   "outputs": [],
   "source": [
    "# reviews[\"split\"] =reviews[\"full\"].str.split(\"\\n\")\n",
    "# reviews[\"length\"] = [len(i) for i in reviews.split]"
   ]
  },
  {
   "cell_type": "code",
   "execution_count": 97,
   "metadata": {},
   "outputs": [
    {
     "output_type": "execute_result",
     "data": {
      "text/plain": [
       "8    28400\n",
       "7      122\n",
       "6       18\n",
       "Name: length, dtype: int64"
      ]
     },
     "metadata": {},
     "execution_count": 97
    }
   ],
   "source": [
    "# # Not all reviews are the same. Some missing elements\n",
    "# reviews.length.value_counts()\n",
    "# reviews.loc[reviews.length == 8,\"split\"]\n",
    "# reviews.loc[reviews.length == 7,\"split\"]\n",
    "# reviews.loc[reviews.length == 6,\"split\"]"
   ]
  },
  {
   "cell_type": "code",
   "execution_count": 99,
   "metadata": {},
   "outputs": [],
   "source": [
    "# reviews[\"title\"] = \"\"\n",
    "# reviews[\"subtitle\"] = \"\"\n",
    "# reviews[\"date_published\"] = \"\"\n",
    "# reviews[\"text\"] = \"\"\n",
    "# reviews[\"date_scraped\"] = \"\"\n",
    "# reviews[\"rating\"] = \"\""
   ]
  },
  {
   "cell_type": "code",
   "execution_count": 118,
   "metadata": {},
   "outputs": [],
   "source": [
    "# for i, split in enumerate(reviews.split):\n",
    "\n",
    "#     if len(split) == 8:\n",
    "#         reviews.loc[reviews.index == i,\"title\"] = split[1]\n",
    "#         reviews.loc[reviews.index == i,\"subtitle\"] = split[2]\n",
    "#         reviews.loc[reviews.index == i,\"date_published\"] = split[3]\n",
    "#         reviews.loc[reviews.index == i,\"text\"] = split[4]\n",
    "#         reviews.loc[reviews.index == i,\"date_scraped\"] =split[6]\n",
    "#         reviews.loc[reviews.index == i,\"rating\"] =split[7]\n",
    "\n",
    "#     elif len(split) == 7:\n",
    "#         reviews.loc[reviews.index == i,\"title\"] = split[1]\n",
    "#         reviews.loc[reviews.index == i,\"subtitle\"] = split[2]\n",
    "#         reviews.loc[reviews.index == i,\"date_published\"] = split[3]\n",
    "#         reviews.loc[reviews.index == i,\"text\"] = \"None\"\n",
    "#         reviews.loc[reviews.index == i,\"date_scraped\"] =split[5]\n",
    "#         reviews.loc[reviews.index == i,\"rating\"] =split[6]\n",
    "\n",
    "#     elif len(split) == 6:\n",
    "#         reviews.loc[reviews.index == i,\"title\"] = \"None\"\n",
    "#         reviews.loc[reviews.index == i,\"subtitle\"] = split[0]\n",
    "#         reviews.loc[reviews.index == i,\"date_published\"] = split[1]\n",
    "#         reviews.loc[reviews.index == i,\"text\"] = split[2]\n",
    "#         reviews.loc[reviews.index == i,\"date_scraped\"] =split[4]\n",
    "#         reviews.loc[reviews.index == i,\"rating\"] =split[5]\n"
   ]
  },
  {
   "cell_type": "code",
   "execution_count": 117,
   "metadata": {},
   "outputs": [],
   "source": [
    "# Checked reviews \n",
    "# reviews.loc[reviews.length == 8,]\n",
    "# reviews.loc[reviews.length == 7,]\n",
    "# reviews.loc[reviews.length == 6,]"
   ]
  },
  {
   "cell_type": "code",
   "execution_count": 116,
   "metadata": {},
   "outputs": [],
   "source": [
    "# # Found an anomly with reviews with length 6. Some have no rating but have text. Some have no text but ratings. Some have no text or ratings but are a TOP/HELPFUL Reviewer.\n",
    "\n",
    "# no_subtitle = reviews.index[reviews.subtitle.str.contains(\"rating|reviews\") == False].tolist()\n",
    "# no_title = reviews.index[reviews.title.str.contains(\"rating\")].tolist()\n",
    "\n",
    "# for i, split in enumerate(reviews.split):\n",
    "\n",
    "#     if len(split) == 7 and (i in no_subtitle):\n",
    "#         reviews.loc[reviews.index == i,\"title\"] = split[1]\n",
    "#         reviews.loc[reviews.index == i,\"subtitle\"] = \"None\"\n",
    "#         reviews.loc[reviews.index == i,\"date_published\"] = split[2]\n",
    "#         reviews.loc[reviews.index == i,\"text\"] = split[3]\n",
    "#         reviews.loc[reviews.index == i,\"date_scraped\"] =split[5]\n",
    "\n",
    "#     if len(split) == 7 and (i in no_title):\n",
    "#         reviews.loc[reviews.index == i,\"title\"] = \"None\" + split[0]\n",
    "#         reviews.loc[reviews.index == i,\"subtitle\"] = split[1]\n",
    "#         reviews.loc[reviews.index == i,\"date_published\"] = split[2]\n",
    "#         reviews.loc[reviews.index == i,\"text\"] = split[3]\n",
    "#         reviews.loc[reviews.index == i,\"date_scraped\"] = split[5]\n",
    "\n",
    "# # Check \n",
    "# reviews.loc[reviews.length == 7,]"
   ]
  },
  {
   "cell_type": "code",
   "execution_count": 110,
   "metadata": {},
   "outputs": [],
   "source": [
    "# # # Parsing out title and subtitle columns further\n",
    "\n",
    "# reviews[\"top_reviewer\"] = [1 if (\"TOP REVIEWER\" in i) else 0 for i in reviews.title]\n",
    "# reviews[\"helpful_reviewer\"] = [1 if (\"HELPFUL REVIEWER\" in i) else 0 for i in reviews.title]\n",
    "# reviews[\"rating_count\"] = [int(re.findall(r'\\d+',i)[0]) if len(re.findall(r'\\d+',i))>0 else 0 for i in reviews.subtitle]\n",
    "# reviews[\"name\"] = [re.split('TOP REVIEWER|HELPFUL REVIEWER',i)[0] for i in reviews.title]\n",
    "\n",
    "# reviews[\"review_count\"] = 0\n",
    "# for i, subtitle in enumerate(reviews.subtitle[:10]):\n",
    "#     num = re.findall(r'\\d+',subtitle)\n",
    "#     if len(num) > 0:\n",
    "#         if search (\"rating\", subtitle):\n",
    "#             reviews.loc[reviews.index == i,\"review_count\"] = int(num[1])\n",
    "#         else:\n",
    "#             reviews.loc[reviews.index == i,\"review_count\"] = int(num[0])"
   ]
  },
  {
   "cell_type": "code",
   "execution_count": 111,
   "metadata": {},
   "outputs": [],
   "source": [
    "# # Formating date_published that are in a relative format (# days/hours ago)\n",
    "\n",
    "# for i, date in enumerate(reviews.date_published):\n",
    "    \n",
    "#     if \"ago\" in date:\n",
    "#         if \"day\" in date:\n",
    "#             scraped = datetime.strptime(reviews.date_scraped[i],\"%m/%d/%Y %H:%M:%S\").date()\n",
    "#             ago = timedelta(days = int(re.findall(r'\\d+',date)[0]))\n",
    "#             reviews.loc[reviews.index == i,\"date_published\"] = (scraped - ago).strftime(\"%m/%d/%Y\")\n",
    "#         else:\n",
    "#             reviews.loc[reviews.index == i,\"date_published\"] = reviews.date_scraped[i][:10]\n",
    "#     else: \n",
    "#         reviews.loc[reviews.index == i,\"date_published\"] = datetime.strptime(reviews.date_published[i],\"%B %d, %Y\").date().strftime(\"%m/%d/%Y\")\n"
   ]
  },
  {
   "cell_type": "code",
   "execution_count": 115,
   "metadata": {},
   "outputs": [],
   "source": [
    "# # # Sam's Club CSV\n",
    "# reviews.to_csv('Groupon_SamsClub_Raw.csv', index=False)\n",
    "# reviews[['name', 'text', 'rating', 'review_count','top_reviewer', 'helpful_reviewer','date_published','date_scraped']].to_csv('Groupon_SamsClub.csv', index=False)"
   ]
  }
 ]
}