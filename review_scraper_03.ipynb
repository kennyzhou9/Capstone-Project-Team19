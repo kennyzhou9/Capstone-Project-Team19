{
 "metadata": {
  "language_info": {
   "codemirror_mode": {
    "name": "ipython",
    "version": 3
   },
   "file_extension": ".py",
   "mimetype": "text/x-python",
   "name": "python",
   "nbconvert_exporter": "python",
   "pygments_lexer": "ipython3",
   "version": "3.8.5-final"
  },
  "orig_nbformat": 2,
  "kernelspec": {
   "name": "python3",
   "display_name": "Python 3.8.5 64-bit ('QST_BA': conda)",
   "metadata": {
    "interpreter": {
     "hash": "4c0bfb3f782de325ad29fca3e7f49701831d88115e99ca6c22d78d2885f399ff"
    }
   }
  }
 },
 "nbformat": 4,
 "nbformat_minor": 2,
 "cells": [
  {
   "cell_type": "code",
   "execution_count": 344,
   "metadata": {},
   "outputs": [],
   "source": [
    "from selenium import webdriver\n",
    "from selenium.webdriver.common.by import By\n",
    "from selenium.webdriver.support.ui import WebDriverWait\n",
    "from selenium.webdriver.support import expected_conditions as EC\n",
    "from selenium.webdriver.chrome.options import Options\n",
    "from selenium.webdriver.common.action_chains import ActionChains\n",
    "\n",
    "from datetime import datetime, date, timedelta\n",
    "from time import sleep\n",
    "import numpy as np\n",
    "import pandas as pd\n",
    "import re"
   ]
  },
  {
   "cell_type": "code",
   "execution_count": 375,
   "metadata": {},
   "outputs": [],
   "source": [
    "PATH = \"C:\\Program Files (x86)\\chromedriver.exe\"\n",
    "driver = webdriver.Chrome(PATH)\n",
    "# driver.get(\"https://www.groupon.com/deals/n-bjs-wholesale-club-memberships\") #BJ's\n",
    "driver.get(\"https://www.groupon.com/deals/n-sams-club-membership-packages-7#tips\") #Sam's Club\n",
    "driver.maximize_window()"
   ]
  },
  {
   "cell_type": "code",
   "execution_count": 377,
   "metadata": {},
   "outputs": [],
   "source": [
    "all_reviews = driver.find_element_by_xpath(\"/html/body/section[2]/div/section/div/div[2]/div[2]/section/div/div/article/div[3]/div[2]/div[2]/a\")\n",
    "\n",
    "all_reviews.click()"
   ]
  },
  {
   "cell_type": "code",
   "execution_count": 128,
   "metadata": {},
   "outputs": [],
   "source": [
    "def scrape():\n",
    "    temp = []\n",
    "    time = datetime.now().strftime(\"%m/%d/%Y %H:%M:%S\")\n",
    "    contents =  driver.find_elements_by_class_name(\"tip-item\")\n",
    "    for content in contents:\n",
    "        temp.append(content.text + f\"\\n{time}\")\n",
    "    return temp[8:]"
   ]
  },
  {
   "cell_type": "code",
   "execution_count": 379,
   "metadata": {},
   "outputs": [],
   "source": [
    "temp = []\n",
    "for i in range(2828):\n",
    "    for j in scrape():\n",
    "        temp.append(j)\n",
    "    next_button = driver.find_element_by_xpath(\"/html/body/div[*]/div[2]/div[5]/div[2]\")\n",
    "    next_button.click()\n",
    "    sleep(3)\n",
    "reviews = pd.DataFrame(temp, columns= [\"full\"])"
   ]
  },
  {
   "cell_type": "code",
   "execution_count": 232,
   "metadata": {},
   "outputs": [],
   "source": [
    "# reviews[\"split\"] =reviews[\"full\"].str.split(\"\\n\")\n",
    "# reviews[\"length\"] = [len(i) for i in reviews.split]"
   ]
  },
  {
   "cell_type": "code",
   "execution_count": 269,
   "metadata": {},
   "outputs": [],
   "source": [
    "# # Not all reviews are the same. Some missing elements\n",
    "# reviews.length.value_counts()\n",
    "# reviews.loc[reviews.length == 5,\"split\"][4141]\n",
    "# reviews.loc[reviews.length == 6,\"split\"][600]\n",
    "# reviews.loc[reviews.length == 7,\"split\"][0]"
   ]
  },
  {
   "cell_type": "code",
   "execution_count": null,
   "metadata": {},
   "outputs": [],
   "source": [
    "# reviews[\"title\"] = \"\"\n",
    "# reviews[\"subtitle\"] = \"\"\n",
    "# reviews[\"date_published\"] = \"\"\n",
    "# reviews[\"text\"] = \"\"\n",
    "# reviews[\"date_scraped\"] = \"\""
   ]
  },
  {
   "cell_type": "code",
   "execution_count": 358,
   "metadata": {},
   "outputs": [],
   "source": [
    "# for i, split in enumerate(reviews.split):\n",
    "#     if len(split) == 7:\n",
    "#         reviews.loc[reviews.index == i,\"title\"] = split[1]\n",
    "#         reviews.loc[reviews.index == i,\"subtitle\"] = split[2]\n",
    "#         reviews.loc[reviews.index == i,\"date_published\"] = split[3]\n",
    "#         reviews.loc[reviews.index == i,\"text\"] = split[4]\n",
    "#         reviews.loc[reviews.index == i,\"date_scraped\"] =split[6]\n",
    "\n",
    "    \n",
    "#     elif len(split) == 6:\n",
    "#         reviews.loc[reviews.index == i,\"title\"] = split[1]\n",
    "#         reviews.loc[reviews.index == i,\"subtitle\"] = split[2]\n",
    "#         reviews.loc[reviews.index == i,\"date_published\"] = split[3]\n",
    "#         reviews.loc[reviews.index == i,\"text\"] = \"None\"\n",
    "#         reviews.loc[reviews.index == i,\"date_scraped\"] =split[5]\n",
    "\n",
    "#     elif len(split) == 5:\n",
    "#         reviews.loc[reviews.index == i,\"title\"] = \"None\"\n",
    "#         reviews.loc[reviews.index == i,\"subtitle\"] = split[0]\n",
    "#         reviews.loc[reviews.index == i,\"date_published\"] = split[1]\n",
    "#         reviews.loc[reviews.index == i,\"text\"] = split[2]\n",
    "#         reviews.loc[reviews.index == i,\"date_scraped\"] =split[4]"
   ]
  },
  {
   "cell_type": "code",
   "execution_count": 271,
   "metadata": {},
   "outputs": [
    {
     "output_type": "execute_result",
     "data": {
      "text/plain": [
       "                                                   full  \\\n",
       "4141  2 ratings2 reviews\\nMay 12, 2016\\nWorth it\\nHe...   \n",
       "4677  6 ratings3 reviews\\nMay 12, 2016\\nBj's has rea...   \n",
       "\n",
       "                                                  split  length title  \\\n",
       "4141  [2 ratings2 reviews, May 12, 2016, Worth it, H...       5  None   \n",
       "4677  [6 ratings3 reviews, May 12, 2016, Bj's has re...       5  None   \n",
       "\n",
       "                subtitle date_published         date_scraped  \\\n",
       "4141  2 ratings2 reviews   May 12, 2016  03/27/2021 21:50:51   \n",
       "4677  6 ratings3 reviews   May 12, 2016  03/27/2021 21:54:10   \n",
       "\n",
       "                                                   text  \n",
       "4141                                           Worth it  \n",
       "4677  Bj's has really improved. Great selection of g...  "
      ],
      "text/html": "<div>\n<style scoped>\n    .dataframe tbody tr th:only-of-type {\n        vertical-align: middle;\n    }\n\n    .dataframe tbody tr th {\n        vertical-align: top;\n    }\n\n    .dataframe thead th {\n        text-align: right;\n    }\n</style>\n<table border=\"1\" class=\"dataframe\">\n  <thead>\n    <tr style=\"text-align: right;\">\n      <th></th>\n      <th>full</th>\n      <th>split</th>\n      <th>length</th>\n      <th>title</th>\n      <th>subtitle</th>\n      <th>date_published</th>\n      <th>date_scraped</th>\n      <th>text</th>\n    </tr>\n  </thead>\n  <tbody>\n    <tr>\n      <th>4141</th>\n      <td>2 ratings2 reviews\\nMay 12, 2016\\nWorth it\\nHe...</td>\n      <td>[2 ratings2 reviews, May 12, 2016, Worth it, H...</td>\n      <td>5</td>\n      <td>None</td>\n      <td>2 ratings2 reviews</td>\n      <td>May 12, 2016</td>\n      <td>03/27/2021 21:50:51</td>\n      <td>Worth it</td>\n    </tr>\n    <tr>\n      <th>4677</th>\n      <td>6 ratings3 reviews\\nMay 12, 2016\\nBj's has rea...</td>\n      <td>[6 ratings3 reviews, May 12, 2016, Bj's has re...</td>\n      <td>5</td>\n      <td>None</td>\n      <td>6 ratings3 reviews</td>\n      <td>May 12, 2016</td>\n      <td>03/27/2021 21:54:10</td>\n      <td>Bj's has really improved. Great selection of g...</td>\n    </tr>\n  </tbody>\n</table>\n</div>"
     },
     "metadata": {},
     "execution_count": 271
    }
   ],
   "source": [
    "# # Checked reviews \n",
    "# reviews.loc[reviews.length == 5,]\n",
    "# reviews.loc[reviews.length == 6,]\n",
    "# reviews.loc[reviews.length == 7,]"
   ]
  },
  {
   "cell_type": "code",
   "execution_count": 310,
   "metadata": {},
   "outputs": [
    {
     "output_type": "execute_result",
     "data": {
      "text/plain": [
       "                                                   full  \\\n",
       "4661  TOP REVIEWER\\n15 ratings14 reviews\\nFebruary 1...   \n",
       "\n",
       "                                                  split  length  \\\n",
       "4661  [TOP REVIEWER, 15 ratings14 reviews, February ...       6   \n",
       "\n",
       "                 title              subtitle     date_published  \\\n",
       "4661  NoneTOP REVIEWER  15 ratings14 reviews  February 15, 2018   \n",
       "\n",
       "             date_scraped                                               text  \\\n",
       "4661  03/27/2021 21:54:07  Still awaiting answer on if membersship is for...   \n",
       "\n",
       "      top_reviewer  helpful_reviewer  rating  review_count  name  \n",
       "4661             1                 0      15            14  None  "
      ],
      "text/html": "<div>\n<style scoped>\n    .dataframe tbody tr th:only-of-type {\n        vertical-align: middle;\n    }\n\n    .dataframe tbody tr th {\n        vertical-align: top;\n    }\n\n    .dataframe thead th {\n        text-align: right;\n    }\n</style>\n<table border=\"1\" class=\"dataframe\">\n  <thead>\n    <tr style=\"text-align: right;\">\n      <th></th>\n      <th>full</th>\n      <th>split</th>\n      <th>length</th>\n      <th>title</th>\n      <th>subtitle</th>\n      <th>date_published</th>\n      <th>date_scraped</th>\n      <th>text</th>\n      <th>top_reviewer</th>\n      <th>helpful_reviewer</th>\n      <th>rating</th>\n      <th>review_count</th>\n      <th>name</th>\n    </tr>\n  </thead>\n  <tbody>\n    <tr>\n      <th>4661</th>\n      <td>TOP REVIEWER\\n15 ratings14 reviews\\nFebruary 1...</td>\n      <td>[TOP REVIEWER, 15 ratings14 reviews, February ...</td>\n      <td>6</td>\n      <td>NoneTOP REVIEWER</td>\n      <td>15 ratings14 reviews</td>\n      <td>February 15, 2018</td>\n      <td>03/27/2021 21:54:07</td>\n      <td>Still awaiting answer on if membersship is for...</td>\n      <td>1</td>\n      <td>0</td>\n      <td>15</td>\n      <td>14</td>\n      <td>None</td>\n    </tr>\n  </tbody>\n</table>\n</div>"
     },
     "metadata": {},
     "execution_count": 310
    }
   ],
   "source": [
    "# # Found an anomly with review 4661 because they are a top reviewer with no name\r\n",
    "# reviews.split[4661]\r\n",
    "# reviews.loc[reviews.index == 4661,\"title\"] = \"None\"+reviews.split[4661][0]\r\n",
    "# reviews.loc[reviews.index == 4661,\"subtitle\"] = reviews.split[4661][1]\r\n",
    "# reviews.loc[reviews.index == 4661,\"date_published\"] = reviews.split[4661][2]\r\n",
    "# reviews.loc[reviews.index == 4661,\"text\"] = reviews.split[4661][3]\r\n",
    "# reviews.loc[reviews.index == 4661,\"date_scraped\"] = reviews.split[4661][5]\r\n",
    "# reviews.loc[reviews.index == 4661,]\r\n"
   ]
  },
  {
   "cell_type": "code",
   "execution_count": 309,
   "metadata": {},
   "outputs": [],
   "source": [
    "reviews[\"top_reviewer\"] = [1 if (\"TOP REVIEWER\" in i) else 0 for i in reviews.title]\n",
    "reviews[\"helpful_reviewer\"] = [1 if (\"HELPFUL REVIEWER\" in i) else 0 for i in reviews.title]\n",
    "reviews[\"rating\"] = [int(re.findall(r'\\d+',i)[0]) for i in reviews.subtitle]\n",
    "reviews[\"review_count\"] = [int(re.findall(r'\\d+',i)[1]) for i in reviews.subtitle]\n",
    "reviews[\"name\"] = [re.split('TOP REVIEWER|HELPFUL REVIEWER',i)[0] for i in reviews.title]"
   ]
  },
  {
   "cell_type": "code",
   "execution_count": 362,
   "metadata": {},
   "outputs": [],
   "source": [
    "# for i, date in enumerate(reviews.date_published[:6]):\r\n",
    "\r\n",
    "#     if \"hour\" in date:\r\n",
    "#         reviews.loc[reviews.index == i,\"date_published\"] = reviews.date_scraped[i][:10]\r\n",
    "#     elif \"days\" in date:\r\n",
    "#         scraped = datetime.strptime(reviews.date_scraped[i],\"%m/%d/%Y %H:%M:%S\").date()\r\n",
    "#         ago = timedelta(days = int(re.findall(r'\\d+',date)[0]))\r\n",
    "#         reviews.loc[reviews.index == i,\"date_published\"] = (scraped - ago).strftime(\"%m/%d/%Y\")\r\n",
    "\r\n",
    "    \r\n",
    "    "
   ]
  },
  {
   "cell_type": "code",
   "execution_count": 371,
   "metadata": {},
   "outputs": [],
   "source": [
    "# reviews.to_csv('Groupon_BJs_Raw.csv', index=False)\n",
    "# reviews[['name', 'text', 'rating', 'review_count','top_reviewer', 'helpful_reviewer','date_published','date_scraped']].to_csv('Groupon_BJs.csv', index=False)"
   ]
  }
 ]
}