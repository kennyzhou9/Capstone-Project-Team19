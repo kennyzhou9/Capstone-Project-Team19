{
 "metadata": {
  "language_info": {
   "codemirror_mode": {
    "name": "ipython",
    "version": 3
   },
   "file_extension": ".py",
   "mimetype": "text/x-python",
   "name": "python",
   "nbconvert_exporter": "python",
   "pygments_lexer": "ipython3",
   "version": "3.6.13"
  },
  "orig_nbformat": 2,
  "kernelspec": {
   "name": "python3",
   "display_name": "Python 3.6.13 64-bit ('gmap_scraper': conda)"
  },
  "metadata": {
   "interpreter": {
    "hash": "df961a54aa5a02c215f46f08da8e0d998ca1359df7cdad4f6941d6daddef2474"
   }
  },
  "interpreter": {
   "hash": "df961a54aa5a02c215f46f08da8e0d998ca1359df7cdad4f6941d6daddef2474"
  }
 },
 "nbformat": 4,
 "nbformat_minor": 2,
 "cells": [
  {
   "cell_type": "code",
   "execution_count": 1,
   "metadata": {},
   "outputs": [],
   "source": [
    "from selenium import webdriver\n",
    "from selenium.webdriver.common.keys import Keys\n",
    "from selenium.webdriver.common.by import By\n",
    "from selenium.webdriver.support.ui import WebDriverWait\n",
    "from selenium.webdriver.support import expected_conditions as EC\n",
    "from selenium.webdriver.chrome.options import Options\n",
    "from selenium.webdriver.common.action_chains import ActionChains\n",
    "\n",
    "from datetime import datetime, date, timedelta\n",
    "from time import sleep\n",
    "import numpy as np\n",
    "import pandas as pd\n",
    "import re\n",
    "from re import search"
   ]
  },
  {
   "cell_type": "code",
   "execution_count": 2,
   "metadata": {},
   "outputs": [],
   "source": [
    "df = open('Sams', \"r\")\n",
    "lines = df.readlines()\n",
    "df.close()\n",
    "\n",
    "for index, line in enumerate(lines):\n",
    "      lines[index] = line.strip()\n",
    "\n",
    "urls = pd.DataFrame(lines, columns= [\"url\"])\n",
    "urls[\"main_index\"] = [i for i in range(len(urls.url))]"
   ]
  },
  {
   "cell_type": "code",
   "execution_count": 5,
   "metadata": {},
   "outputs": [],
   "source": [
    "# urls.sample(5)\n",
    "\n",
    "#pane > div > div.widget-pane-content.cYB2Ge-oHo7ed\n",
    "/html/body/jsl/div[3]/div[9]/div[8]/div/div[1]\n",
    "\n",
    "/html/body/jsl/div[3]/div[9]/div[5]/div/div/div/div[1]\n",
    "#assistive-chips > div > div > div\n",
    "#pane > div > div.widget-pane-content.cYB2Ge-oHo7ed\n",
    "div.section-layout.section-scrollbox.mapsConsumerUiCommonScrollable__scrollable-y.mapsConsumerUiCommonScrollable__scrollable-show\n",
    "#popup > div > div > div\n",
    "/html/body/jsl/div[3]/div[8]/div/div/div"
   ]
  },
  {
   "cell_type": "code",
   "execution_count": 7,
   "metadata": {},
   "outputs": [],
   "source": [
    "# for i, url in enumerate(urls.url):\n",
    "#     f= open(f\"Sams_url_{i}.txt\",\"w+\")\n",
    "#     f.write(url)\n",
    "#     f.close() "
   ]
  },
  {
   "cell_type": "code",
   "execution_count": 3,
   "metadata": {},
   "outputs": [],
   "source": [
    "PATH = \"C:\\Program Files (x86)\\chromedriver.exe\"\n",
    "driver = webdriver.Chrome(PATH)\n",
    "# driver.maximize_window()"
   ]
  },
  {
   "cell_type": "code",
   "execution_count": 4,
   "metadata": {},
   "outputs": [],
   "source": [
    "driver.get(urls.loc[urls[\"main_index\"]==0,\"url\"].values[0])"
   ]
  },
  {
   "cell_type": "code",
   "execution_count": 4,
   "metadata": {},
   "outputs": [],
   "source": [
    "def review_count(url_index):\n",
    "    driver.get(urls.loc[urls[\"main_index\"]==url_index,\"url\"].values[0])\n",
    "    sleep(6)\n",
    "    count = driver.find_element_by_xpath(\"/html/body/jsl/div[3]/div[9]/div[8]/div/div[1]/div/div/div[2]/div[1]/div[1]/div[2]/div/div[1]/span[1]/span/span[1]/span[2]/span[1]/button\").text.split(\" reviews\")[0]\n",
    "    print(f'python scraper.py --N {count} --i BJ_url_{url_index}.txt')\n",
    "    \n"
   ]
  },
  {
   "cell_type": "code",
   "execution_count": 6,
   "metadata": {},
   "outputs": [],
   "source": [
    "for i in urls.main_index:\n",
    "    review_count(i)"
   ]
  },
  {
   "cell_type": "code",
   "execution_count": 50,
   "metadata": {},
   "outputs": [],
   "source": [
    "# review_count()"
   ]
  },
  {
   "source": [],
   "cell_type": "markdown",
   "metadata": {}
  }
 ]
}