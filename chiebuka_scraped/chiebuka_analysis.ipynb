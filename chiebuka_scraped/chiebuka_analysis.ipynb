{
 "metadata": {
  "language_info": {
   "codemirror_mode": {
    "name": "ipython",
    "version": 3
   },
   "file_extension": ".py",
   "mimetype": "text/x-python",
   "name": "python",
   "nbconvert_exporter": "python",
   "pygments_lexer": "ipython3",
   "version": "3.8.5"
  },
  "orig_nbformat": 4,
  "kernelspec": {
   "name": "python3",
   "display_name": "Python 3.8.5 64-bit ('QST_BA': conda)"
  },
  "interpreter": {
   "hash": "4c0bfb3f782de325ad29fca3e7f49701831d88115e99ca6c22d78d2885f399ff"
  }
 },
 "nbformat": 4,
 "nbformat_minor": 2,
 "cells": [
  {
   "source": [
    "# Groupon"
   ],
   "cell_type": "markdown",
   "metadata": {}
  },
  {
   "source": [
    "## Imports and Packages"
   ],
   "cell_type": "markdown",
   "metadata": {}
  },
  {
   "cell_type": "code",
   "execution_count": 4,
   "metadata": {},
   "outputs": [],
   "source": [
    "import datetime \n",
    "from dateutil.relativedelta import *\n",
    "import os\n",
    "import re \n",
    "import string\n",
    "import nltk\n",
    "import pandas as pd \n",
    "import numpy as np\n",
    "from nltk.stem import WordNetLemmatizer\n",
    "from nltk.corpus import stopwords\n",
    "stop_words=set(stopwords.words('english'))\n",
    "\n",
    "import matplotlib.pyplot as plt \n",
    "\n",
    "from collections import OrderedDict\n",
    "import langdetect \n",
    "from langdetect import DetectorFactory , detect_langs # for dermining language  \n",
    "DetectorFactory.seed = 0\n",
    "\n",
    "from google_trans_new import google_translator  # translating words\n",
    "translator = google_translator()  \n",
    "\n",
    "from sklearn.feature_extraction.text import TfidfVectorizer\n",
    "\n",
    "from wordcloud import WordCloud \n",
    "%matplotlib inline"
   ]
  },
  {
   "source": [
    "## Data Loading"
   ],
   "cell_type": "markdown",
   "metadata": {}
  },
  {
   "cell_type": "code",
   "execution_count": 5,
   "metadata": {},
   "outputs": [],
   "source": [
    "# Loading csv files to panda dataframe\n",
    "bjs = pd.read_csv(\"Groupon_BJs.csv\")\n",
    "sams = pd.read_csv(\"Groupon_SamsClub.csv\")"
   ]
  },
  {
   "cell_type": "code",
   "execution_count": 6,
   "metadata": {},
   "outputs": [],
   "source": [
    "# Labeling reviews\n",
    "bjs[\"store\"] = \"BJs\"\n",
    "bjs[\"store_index\"] = bjs.index\n",
    "sams[\"store\"] = \"Sams\"\n",
    "sams[\"store_index\"] = sams.index"
   ]
  },
  {
   "cell_type": "code",
   "execution_count": 7,
   "metadata": {},
   "outputs": [],
   "source": [
    "# Concatenating BJ's and Sam's reviews to one dataframe\n",
    "groupon = pd.concat([bjs,sams],ignore_index= True)"
   ]
  },
  {
   "source": [
    "## Data Description"
   ],
   "cell_type": "markdown",
   "metadata": {}
  },
  {
   "cell_type": "code",
   "execution_count": 8,
   "metadata": {},
   "outputs": [
    {
     "output_type": "execute_result",
     "data": {
      "text/plain": [
       "          name                                               text  rating  \\\n",
       "23379   Teresa  I love shopping at Sam’s club. Thank you Group...       5   \n",
       "19511  Roxanne  After some initial problems, got a lot of help...       5   \n",
       "1418   Roxanne  Clean facilities great parking prices are reas...       4   \n",
       "5291       Ken  Very knowledgeable and friendly lady who worke...       5   \n",
       "5314    Martha  I love the promotional $25 dollar gift card wi...       5   \n",
       "\n",
       "       review_count  top_reviewer  helpful_reviewer date_published  \\\n",
       "23379             0             0                 0     02/24/2018   \n",
       "19511             0             0                 0     10/19/2018   \n",
       "1418              0             1                 0     04/20/2018   \n",
       "5291              0             0                 0     12/16/2013   \n",
       "5314              0             0                 0     12/16/2013   \n",
       "\n",
       "              date_scraped store  store_index  \n",
       "23379  04/07/2021 09:54:09  Sams        18004  \n",
       "19511  04/07/2021 09:30:17  Sams        14136  \n",
       "1418   04/07/2021 13:18:12   BJs         1418  \n",
       "5291   04/07/2021 13:42:42   BJs         5291  \n",
       "5314   04/07/2021 13:42:49   BJs         5314  "
      ],
      "text/html": "<div>\n<style scoped>\n    .dataframe tbody tr th:only-of-type {\n        vertical-align: middle;\n    }\n\n    .dataframe tbody tr th {\n        vertical-align: top;\n    }\n\n    .dataframe thead th {\n        text-align: right;\n    }\n</style>\n<table border=\"1\" class=\"dataframe\">\n  <thead>\n    <tr style=\"text-align: right;\">\n      <th></th>\n      <th>name</th>\n      <th>text</th>\n      <th>rating</th>\n      <th>review_count</th>\n      <th>top_reviewer</th>\n      <th>helpful_reviewer</th>\n      <th>date_published</th>\n      <th>date_scraped</th>\n      <th>store</th>\n      <th>store_index</th>\n    </tr>\n  </thead>\n  <tbody>\n    <tr>\n      <th>23379</th>\n      <td>Teresa</td>\n      <td>I love shopping at Sam’s club. Thank you Group...</td>\n      <td>5</td>\n      <td>0</td>\n      <td>0</td>\n      <td>0</td>\n      <td>02/24/2018</td>\n      <td>04/07/2021 09:54:09</td>\n      <td>Sams</td>\n      <td>18004</td>\n    </tr>\n    <tr>\n      <th>19511</th>\n      <td>Roxanne</td>\n      <td>After some initial problems, got a lot of help...</td>\n      <td>5</td>\n      <td>0</td>\n      <td>0</td>\n      <td>0</td>\n      <td>10/19/2018</td>\n      <td>04/07/2021 09:30:17</td>\n      <td>Sams</td>\n      <td>14136</td>\n    </tr>\n    <tr>\n      <th>1418</th>\n      <td>Roxanne</td>\n      <td>Clean facilities great parking prices are reas...</td>\n      <td>4</td>\n      <td>0</td>\n      <td>1</td>\n      <td>0</td>\n      <td>04/20/2018</td>\n      <td>04/07/2021 13:18:12</td>\n      <td>BJs</td>\n      <td>1418</td>\n    </tr>\n    <tr>\n      <th>5291</th>\n      <td>Ken</td>\n      <td>Very knowledgeable and friendly lady who worke...</td>\n      <td>5</td>\n      <td>0</td>\n      <td>0</td>\n      <td>0</td>\n      <td>12/16/2013</td>\n      <td>04/07/2021 13:42:42</td>\n      <td>BJs</td>\n      <td>5291</td>\n    </tr>\n    <tr>\n      <th>5314</th>\n      <td>Martha</td>\n      <td>I love the promotional $25 dollar gift card wi...</td>\n      <td>5</td>\n      <td>0</td>\n      <td>0</td>\n      <td>0</td>\n      <td>12/16/2013</td>\n      <td>04/07/2021 13:42:49</td>\n      <td>BJs</td>\n      <td>5314</td>\n    </tr>\n  </tbody>\n</table>\n</div>"
     },
     "metadata": {},
     "execution_count": 8
    }
   ],
   "source": [
    "# groupon.loc[groupon.store==\"BJs\",].sample(5)\n",
    "# groupon.loc[groupon.store==\"Sams\",].sample(5)\n",
    "groupon.sample(5)"
   ]
  },
  {
   "cell_type": "code",
   "execution_count": 9,
   "metadata": {},
   "outputs": [
    {
     "output_type": "stream",
     "name": "stdout",
     "text": [
      "<class 'pandas.core.frame.DataFrame'>\nRangeIndex: 33915 entries, 0 to 33914\nData columns (total 10 columns):\n #   Column            Non-Null Count  Dtype \n---  ------            --------------  ----- \n 0   name              33915 non-null  object\n 1   text              33914 non-null  object\n 2   rating            33915 non-null  int64 \n 3   review_count      33915 non-null  int64 \n 4   top_reviewer      33915 non-null  int64 \n 5   helpful_reviewer  33915 non-null  int64 \n 6   date_published    33915 non-null  object\n 7   date_scraped      33915 non-null  object\n 8   store             33915 non-null  object\n 9   store_index       33915 non-null  int64 \ndtypes: int64(5), object(5)\nmemory usage: 2.6+ MB\n"
     ]
    }
   ],
   "source": [
    "# groupon.loc[groupon.store==\"BJs\",].info()\n",
    "# groupon.loc[groupon.store==\"Sams\",].info()\n",
    "groupon.info()"
   ]
  },
  {
   "cell_type": "code",
   "execution_count": 10,
   "metadata": {},
   "outputs": [
    {
     "output_type": "execute_result",
     "data": {
      "text/plain": [
       "                    count          mean          std  min     25%      50%  \\\n",
       "rating            33915.0      3.828483     1.635537  0.0     2.0      5.0   \n",
       "review_count      33915.0      0.002595     0.182518  0.0     0.0      0.0   \n",
       "top_reviewer      33915.0      0.274687     0.446363  0.0     0.0      0.0   \n",
       "helpful_reviewer  33915.0      0.094354     0.292324  0.0     0.0      0.0   \n",
       "store_index       33915.0  12433.853899  8683.066342  0.0  4239.0  11582.0   \n",
       "\n",
       "                      75%      max  \n",
       "rating                5.0      5.0  \n",
       "review_count          0.0     28.0  \n",
       "top_reviewer          1.0      1.0  \n",
       "helpful_reviewer      0.0      1.0  \n",
       "store_index       20060.5  28539.0  "
      ],
      "text/html": "<div>\n<style scoped>\n    .dataframe tbody tr th:only-of-type {\n        vertical-align: middle;\n    }\n\n    .dataframe tbody tr th {\n        vertical-align: top;\n    }\n\n    .dataframe thead th {\n        text-align: right;\n    }\n</style>\n<table border=\"1\" class=\"dataframe\">\n  <thead>\n    <tr style=\"text-align: right;\">\n      <th></th>\n      <th>count</th>\n      <th>mean</th>\n      <th>std</th>\n      <th>min</th>\n      <th>25%</th>\n      <th>50%</th>\n      <th>75%</th>\n      <th>max</th>\n    </tr>\n  </thead>\n  <tbody>\n    <tr>\n      <th>rating</th>\n      <td>33915.0</td>\n      <td>3.828483</td>\n      <td>1.635537</td>\n      <td>0.0</td>\n      <td>2.0</td>\n      <td>5.0</td>\n      <td>5.0</td>\n      <td>5.0</td>\n    </tr>\n    <tr>\n      <th>review_count</th>\n      <td>33915.0</td>\n      <td>0.002595</td>\n      <td>0.182518</td>\n      <td>0.0</td>\n      <td>0.0</td>\n      <td>0.0</td>\n      <td>0.0</td>\n      <td>28.0</td>\n    </tr>\n    <tr>\n      <th>top_reviewer</th>\n      <td>33915.0</td>\n      <td>0.274687</td>\n      <td>0.446363</td>\n      <td>0.0</td>\n      <td>0.0</td>\n      <td>0.0</td>\n      <td>1.0</td>\n      <td>1.0</td>\n    </tr>\n    <tr>\n      <th>helpful_reviewer</th>\n      <td>33915.0</td>\n      <td>0.094354</td>\n      <td>0.292324</td>\n      <td>0.0</td>\n      <td>0.0</td>\n      <td>0.0</td>\n      <td>0.0</td>\n      <td>1.0</td>\n    </tr>\n    <tr>\n      <th>store_index</th>\n      <td>33915.0</td>\n      <td>12433.853899</td>\n      <td>8683.066342</td>\n      <td>0.0</td>\n      <td>4239.0</td>\n      <td>11582.0</td>\n      <td>20060.5</td>\n      <td>28539.0</td>\n    </tr>\n  </tbody>\n</table>\n</div>"
     },
     "metadata": {},
     "execution_count": 10
    }
   ],
   "source": [
    "# groupon.loc[groupon.store==\"BJs\",].describe().T\n",
    "# groupon.loc[groupon.store==\"Sams\",].describe().T\n",
    "groupon.describe().T"
   ]
  },
  {
   "source": [
    "## Null Values"
   ],
   "cell_type": "markdown",
   "metadata": {}
  },
  {
   "source": [
    "# Check\n",
    "groupon.text.isnull().value_counts()"
   ],
   "cell_type": "code",
   "metadata": {},
   "execution_count": 11,
   "outputs": [
    {
     "output_type": "execute_result",
     "data": {
      "text/plain": [
       "False    33914\n",
       "True         1\n",
       "Name: text, dtype: int64"
      ]
     },
     "metadata": {},
     "execution_count": 11
    }
   ]
  },
  {
   "source": [
    "There is one null value lets find it"
   ],
   "cell_type": "markdown",
   "metadata": {}
  },
  {
   "cell_type": "code",
   "execution_count": 12,
   "metadata": {},
   "outputs": [
    {
     "output_type": "execute_result",
     "data": {
      "text/plain": [
       "           name text  rating  review_count  top_reviewer  helpful_reviewer  \\\n",
       "8262  Christine  NaN       5             0             0                 0   \n",
       "\n",
       "     date_published         date_scraped store  store_index  \n",
       "8262     11/19/2020  04/07/2021 01:12:05  Sams         2887  "
      ],
      "text/html": "<div>\n<style scoped>\n    .dataframe tbody tr th:only-of-type {\n        vertical-align: middle;\n    }\n\n    .dataframe tbody tr th {\n        vertical-align: top;\n    }\n\n    .dataframe thead th {\n        text-align: right;\n    }\n</style>\n<table border=\"1\" class=\"dataframe\">\n  <thead>\n    <tr style=\"text-align: right;\">\n      <th></th>\n      <th>name</th>\n      <th>text</th>\n      <th>rating</th>\n      <th>review_count</th>\n      <th>top_reviewer</th>\n      <th>helpful_reviewer</th>\n      <th>date_published</th>\n      <th>date_scraped</th>\n      <th>store</th>\n      <th>store_index</th>\n    </tr>\n  </thead>\n  <tbody>\n    <tr>\n      <th>8262</th>\n      <td>Christine</td>\n      <td>NaN</td>\n      <td>5</td>\n      <td>0</td>\n      <td>0</td>\n      <td>0</td>\n      <td>11/19/2020</td>\n      <td>04/07/2021 01:12:05</td>\n      <td>Sams</td>\n      <td>2887</td>\n    </tr>\n  </tbody>\n</table>\n</div>"
     },
     "metadata": {},
     "execution_count": 12
    }
   ],
   "source": [
    "# Find Null\n",
    "groupon.loc[groupon.text.isnull() == True,]"
   ]
  },
  {
   "source": [
    "Lets replace the NaN value with an empty string \" \""
   ],
   "cell_type": "markdown",
   "metadata": {}
  },
  {
   "cell_type": "code",
   "execution_count": 13,
   "metadata": {},
   "outputs": [
    {
     "output_type": "execute_result",
     "data": {
      "text/plain": [
       "False    33915\n",
       "Name: text, dtype: int64"
      ]
     },
     "metadata": {},
     "execution_count": 13
    }
   ],
   "source": [
    "# Replace with empty space\n",
    "groupon.loc[groupon.text.isnull() == True,\"text\"] = \" \"\n",
    "\n",
    "#Check\n",
    "groupon.text.isnull().value_counts()"
   ]
  },
  {
   "source": [
    "## Exploratory Data Analysis"
   ],
   "cell_type": "markdown",
   "metadata": {}
  },
  {
   "cell_type": "code",
   "execution_count": 14,
   "metadata": {},
   "outputs": [],
   "source": [
    "def plot_rating(df,name):\n",
    "\n",
    "    print(f'Number of Reviews Ratings are:\\t{df.rating.sum()}')\n",
    "\n",
    "    plot_df = df.rating.value_counts(normalize=True).sort_index()\n",
    "    plot_df *= 100\n",
    "\n",
    "    plot_df.plot(kind='bar')\n",
    "    plt.title(f'Rating Frequency of {name}');\n",
    "    plt.xlabel('Rating Score');\n",
    "    plt.xticks(rotation=0);\n",
    "    plt.ylabel('Percent (%)');"
   ]
  },
  {
   "cell_type": "code",
   "execution_count": 125,
   "metadata": {},
   "outputs": [],
   "source": [
    "plot_rating(groupon, \"All Groupon Reviews\")"
   ]
  },
  {
   "cell_type": "code",
   "execution_count": 126,
   "metadata": {},
   "outputs": [],
   "source": [
    "plot_rating(groupon.loc[groupon.store==\"BJs\",],\"BJ's Reviews\")"
   ]
  },
  {
   "cell_type": "code",
   "execution_count": 127,
   "metadata": {},
   "outputs": [],
   "source": [
    "plot_rating(groupon.loc[groupon.store==\"Sams\",],\"Sam's Reviews\")"
   ]
  },
  {
   "cell_type": "code",
   "execution_count": 16,
   "metadata": {},
   "outputs": [],
   "source": [
    "groupon[\"review_len\"] = groupon.text.apply(lambda x: len(x.split()))"
   ]
  },
  {
   "cell_type": "code",
   "execution_count": 27,
   "metadata": {},
   "outputs": [
    {
     "output_type": "stream",
     "name": "stdout",
     "text": [
      "Average word count per review for all reviews:\t19.04390387734041\nAverage word count per review for all reviews:\t15.445581395348837\nAverage word count per review for all reviews:\t19.721583742116326\n"
     ]
    }
   ],
   "source": [
    "avg_review_len_all = groupon.review_len.sum()/len(groupon.text)\n",
    "avg_review_len_bjs = groupon.loc[groupon.store==\"BJs\",\"review_len\"].sum()/len(groupon.loc[groupon.store==\"BJs\",])\n",
    "avg_review_len_sams = groupon.loc[groupon.store==\"Sams\",\"review_len\"].sum()/len(groupon.loc[groupon.store==\"Sams\",])\n",
    "\n",
    "print(f'Average word count per review for all reviews:\\t{avg_review_len_all}')\n",
    "print(f'Average word count per review for all reviews:\\t{avg_review_len_bjs}')\n",
    "print(f'Average word count per review for all reviews:\\t{avg_review_len_sams}')"
   ]
  },
  {
   "source": [
    "## Natural Language Processing"
   ],
   "cell_type": "markdown",
   "metadata": {}
  }
 ]
}